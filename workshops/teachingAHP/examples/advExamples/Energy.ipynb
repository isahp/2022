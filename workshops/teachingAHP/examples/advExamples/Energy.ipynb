{
 "cells": [
  {
   "cell_type": "code",
   "execution_count": 1,
   "metadata": {
    "jupyter": {
     "outputs_hidden": false
    },
    "pycharm": {
     "name": "#%%\n"
    }
   },
   "outputs": [],
   "source": [
    "# from AHPLib import *\n",
    "import pandas as pd\n",
    "import numpy as np\n",
    "\n",
    "\n",
    "import inputs_AHPLib as cdf_inp\n",
    "import structs_AHPLib as cdf_str\n",
    "import calcs_AHPLib as cdf_calc\n",
    "\n",
    "#set here the number of decimals that you want to be displayed\n",
    "%precision 4\n",
    "np.set_printoptions(suppress=True,precision=4)\n"
   ]
  },
  {
   "cell_type": "code",
   "execution_count": 2,
   "metadata": {},
   "outputs": [
    {
     "name": "stdout",
     "output_type": "stream",
     "text": [
      "Nodes: []\n",
      " Clusters: []\n",
      " Node Connections: []\n",
      " Cluster Connections: []\n"
     ]
    }
   ],
   "source": [
    "Energy = cdf_str.Model() \n",
    "\n",
    "print(Energy)"
   ]
  },
  {
   "cell_type": "markdown",
   "metadata": {},
   "source": [
    "#### Creating the nodes"
   ]
  },
  {
   "cell_type": "code",
   "execution_count": 3,
   "metadata": {},
   "outputs": [],
   "source": [
    "goal_node = cdf_str.Node(\"GoalNode\",0)"
   ]
  },
  {
   "cell_type": "code",
   "execution_count": 4,
   "metadata": {},
   "outputs": [],
   "source": [
    "AmountOfElectricity = cdf_str.Node(\"AmountOfElectricity\",1)\n",
    "Reliability = cdf_str.Node(\"Reliability\",2)\n",
    "Costs = cdf_str.Node(\"Costs\",3)\n",
    "EnvironmentalImpact = cdf_str.Node(\"EnvironmentalImpact\", 4)\n",
    "EnergyAmortization = cdf_str.Node(\"EnergyAmortization\",5)\n",
    "Potential = cdf_str.Node(\"Potential\",6)"
   ]
  },
  {
   "cell_type": "code",
   "execution_count": 5,
   "metadata": {},
   "outputs": [],
   "source": [
    "OperatingCosts = cdf_str.Node(\"OperatingCosts\",7)\n",
    "ElectricProductionCosts = cdf_str.Node(\"ElectricProductionCosts\",8)"
   ]
  },
  {
   "cell_type": "code",
   "execution_count": 6,
   "metadata": {},
   "outputs": [],
   "source": [
    "alt1 = cdf_str.Node(\"WindEnergy\",9)\n",
    "alt2 = cdf_str.Node(\"Photovoltaic\",10)\n",
    "alt3 = cdf_str.Node(\"HydroElectric\",11)"
   ]
  },
  {
   "cell_type": "code",
   "execution_count": 7,
   "metadata": {},
   "outputs": [
    {
     "name": "stdout",
     "output_type": "stream",
     "text": [
      "WindEnergy NID: 9 order: 9 \n",
      " Photovoltaic NID: 10 order: 10 \n",
      " HydroElectric NID: 11 order: 11\n"
     ]
    }
   ],
   "source": [
    "print(alt1,\"\\n\",alt2,\"\\n\",alt3)"
   ]
  },
  {
   "cell_type": "markdown",
   "metadata": {},
   "source": [
    "#### Creating the clusters"
   ]
  },
  {
   "cell_type": "code",
   "execution_count": 8,
   "metadata": {},
   "outputs": [],
   "source": [
    "cluster0 = cdf_str.Cluster(\"1Goal\",0)\n",
    "cluster1 = cdf_str.Cluster(\"2Criteria\",1)\n",
    "cluster2 = cdf_str.Cluster(\"3SubCriteria\",2)\n",
    "cluster3 = cdf_str.Cluster(\"4Alternatives\",3)"
   ]
  },
  {
   "cell_type": "markdown",
   "metadata": {},
   "source": [
    "### Adding the nodes to their cluster"
   ]
  },
  {
   "cell_type": "code",
   "execution_count": 9,
   "metadata": {},
   "outputs": [],
   "source": [
    "cluster0.addNode2Cluster(goal_node)   \n",
    "#Cluster goal"
   ]
  },
  {
   "cell_type": "code",
   "execution_count": 10,
   "metadata": {},
   "outputs": [],
   "source": [
    "cluster1.addNode2Cluster(AmountOfElectricity)  \n",
    "cluster1.addNode2Cluster(Reliability)\n",
    "cluster1.addNode2Cluster(Costs)\n",
    "cluster1.addNode2Cluster(EnvironmentalImpact)\n",
    "cluster1.addNode2Cluster(EnergyAmortization)\n",
    "cluster1.addNode2Cluster(Potential)\n",
    "\n",
    "#Cluster criteria"
   ]
  },
  {
   "cell_type": "code",
   "execution_count": 11,
   "metadata": {},
   "outputs": [],
   "source": [
    "cluster2.addNode2Cluster(OperatingCosts)\n",
    "cluster2.addNode2Cluster(ElectricProductionCosts)\n",
    "#Cluster subcriteria"
   ]
  },
  {
   "cell_type": "code",
   "execution_count": 12,
   "metadata": {},
   "outputs": [],
   "source": [
    "cluster3.addNode2Cluster(alt1)\n",
    "cluster3.addNode2Cluster(alt2)\n",
    "cluster3.addNode2Cluster(alt3)\n",
    "#Cluster Alternatives"
   ]
  },
  {
   "cell_type": "code",
   "execution_count": 13,
   "metadata": {},
   "outputs": [
    {
     "name": "stdout",
     "output_type": "stream",
     "text": [
      "Cluster: 1Goal with nodes: [GoalNode NID: 0 order: 0]\n",
      "\n",
      "Cluster: 2Criteria with nodes: [AmountOfElectricity NID: 1 order: 1, Reliability NID: 2 order: 2, Costs NID: 3 order: 3, EnvironmentalImpact NID: 4 order: 4, EnergyAmortization NID: 5 order: 5, Potential NID: 6 order: 6]\n",
      "\n",
      "Cluster: 3SubCriteria with nodes: [OperatingCosts NID: 7 order: 7, ElectricProductionCosts NID: 8 order: 8]\n",
      "\n",
      "Cluster: 4Alternatives with nodes: [WindEnergy NID: 9 order: 9, Photovoltaic NID: 10 order: 10, HydroElectric NID: 11 order: 11]\n",
      "\n"
     ]
    }
   ],
   "source": [
    "cluster0.printWithNodes()\n",
    "cluster1.printWithNodes()\n",
    "cluster2.printWithNodes()\n",
    "cluster3.printWithNodes()"
   ]
  },
  {
   "cell_type": "markdown",
   "metadata": {},
   "source": [
    "### Add clusters to the model"
   ]
  },
  {
   "cell_type": "code",
   "execution_count": 14,
   "metadata": {},
   "outputs": [],
   "source": [
    "Energy.addCluster2Model(cluster0)\n",
    "Energy.addCluster2Model(cluster1)\n",
    "Energy.addCluster2Model(cluster2)\n",
    "Energy.addCluster2Model(cluster3)"
   ]
  },
  {
   "cell_type": "code",
   "execution_count": 15,
   "metadata": {},
   "outputs": [
    {
     "name": "stdout",
     "output_type": "stream",
     "text": [
      "Nodes: [GoalNode NID: 0 order: 0, AmountOfElectricity NID: 1 order: 1, Reliability NID: 2 order: 2, Costs NID: 3 order: 3, EnvironmentalImpact NID: 4 order: 4, EnergyAmortization NID: 5 order: 5, Potential NID: 6 order: 6, OperatingCosts NID: 7 order: 7, ElectricProductionCosts NID: 8 order: 8, WindEnergy NID: 9 order: 9, Photovoltaic NID: 10 order: 10, HydroElectric NID: 11 order: 11]\n",
      " Clusters: [1Goal CID:  0 order: 0, 2Criteria CID:  1 order: 1, 3SubCriteria CID:  2 order: 2, 4Alternatives CID:  3 order: 3]\n",
      " Node Connections: []\n",
      " Cluster Connections: []\n"
     ]
    }
   ],
   "source": [
    "print(Energy)"
   ]
  },
  {
   "cell_type": "markdown",
   "metadata": {},
   "source": [
    "### Set up Node connections"
   ]
  },
  {
   "cell_type": "code",
   "execution_count": 16,
   "metadata": {},
   "outputs": [],
   "source": [
    "Energy.addNodeConnectionFromNodeToAllNodesOfCluster(\"GoalNode\",\"2Criteria\")\n",
    "#creat all the connections from the given Node name\"GoalNode\" to given Cluster name=\"2Criteria\""
   ]
  },
  {
   "cell_type": "code",
   "execution_count": 17,
   "metadata": {},
   "outputs": [],
   "source": [
    "Energy.addNodeConnectionFromNodeToAllNodesOfCluster(\"Costs\",\"3SubCriteria\")"
   ]
  },
  {
   "cell_type": "code",
   "execution_count": 18,
   "metadata": {},
   "outputs": [],
   "source": [
    "Energy.addNodeConnectionFromAllNodesToAllNodesOfCluster(\"3SubCriteria\",\"4Alternatives\")"
   ]
  },
  {
   "cell_type": "code",
   "execution_count": 19,
   "metadata": {},
   "outputs": [],
   "source": [
    "Energy.addNodeConnectionFromNodeToAllNodesOfCluster(\"AmountOfElectricity\",\"4Alternatives\")"
   ]
  },
  {
   "cell_type": "code",
   "execution_count": 20,
   "metadata": {},
   "outputs": [],
   "source": [
    "Energy.addNodeConnectionFromNodeToAllNodesOfCluster(\"Reliability\",\"4Alternatives\")"
   ]
  },
  {
   "cell_type": "code",
   "execution_count": 21,
   "metadata": {},
   "outputs": [],
   "source": [
    "Energy.addNodeConnectionFromNodeToAllNodesOfCluster(\"EnvironmentalImpact\",\"4Alternatives\")"
   ]
  },
  {
   "cell_type": "code",
   "execution_count": 22,
   "metadata": {},
   "outputs": [],
   "source": [
    "Energy.addNodeConnectionFromNodeToAllNodesOfCluster(\"EnergyAmortization\",\"4Alternatives\")"
   ]
  },
  {
   "cell_type": "code",
   "execution_count": 23,
   "metadata": {},
   "outputs": [],
   "source": [
    "Energy.addNodeConnectionFromNodeToAllNodesOfCluster(\"Potential\",\"4Alternatives\")"
   ]
  },
  {
   "cell_type": "code",
   "execution_count": 24,
   "metadata": {},
   "outputs": [
    {
     "name": "stdout",
     "output_type": "stream",
     "text": [
      "Nodes: [GoalNode NID: 0 order: 0, AmountOfElectricity NID: 1 order: 1, Reliability NID: 2 order: 2, Costs NID: 3 order: 3, EnvironmentalImpact NID: 4 order: 4, EnergyAmortization NID: 5 order: 5, Potential NID: 6 order: 6, OperatingCosts NID: 7 order: 7, ElectricProductionCosts NID: 8 order: 8, WindEnergy NID: 9 order: 9, Photovoltaic NID: 10 order: 10, HydroElectric NID: 11 order: 11]\n",
      " Clusters: [1Goal CID:  0 order: 0, 2Criteria CID:  1 order: 1, 3SubCriteria CID:  2 order: 2, 4Alternatives CID:  3 order: 3]\n",
      " Node Connections: {GoalNode NID: 0 order: 0: [AmountOfElectricity NID: 1 order: 1, Reliability NID: 2 order: 2, Costs NID: 3 order: 3, EnvironmentalImpact NID: 4 order: 4, EnergyAmortization NID: 5 order: 5, Potential NID: 6 order: 6], AmountOfElectricity NID: 1 order: 1: [WindEnergy NID: 9 order: 9, Photovoltaic NID: 10 order: 10, HydroElectric NID: 11 order: 11], Reliability NID: 2 order: 2: [WindEnergy NID: 9 order: 9, Photovoltaic NID: 10 order: 10, HydroElectric NID: 11 order: 11], Costs NID: 3 order: 3: [OperatingCosts NID: 7 order: 7, ElectricProductionCosts NID: 8 order: 8], EnvironmentalImpact NID: 4 order: 4: [WindEnergy NID: 9 order: 9, Photovoltaic NID: 10 order: 10, HydroElectric NID: 11 order: 11], EnergyAmortization NID: 5 order: 5: [WindEnergy NID: 9 order: 9, Photovoltaic NID: 10 order: 10, HydroElectric NID: 11 order: 11], Potential NID: 6 order: 6: [WindEnergy NID: 9 order: 9, Photovoltaic NID: 10 order: 10, HydroElectric NID: 11 order: 11], OperatingCosts NID: 7 order: 7: [WindEnergy NID: 9 order: 9, Photovoltaic NID: 10 order: 10, HydroElectric NID: 11 order: 11], ElectricProductionCosts NID: 8 order: 8: [WindEnergy NID: 9 order: 9, Photovoltaic NID: 10 order: 10, HydroElectric NID: 11 order: 11], WindEnergy NID: 9 order: 9: [], Photovoltaic NID: 10 order: 10: [], HydroElectric NID: 11 order: 11: []}\n",
      " Cluster Connections: {1Goal CID:  0 order: 0: [2Criteria CID:  1 order: 1], 2Criteria CID:  1 order: 1: [3SubCriteria CID:  2 order: 2, 4Alternatives CID:  3 order: 3], 3SubCriteria CID:  2 order: 2: [4Alternatives CID:  3 order: 3], 4Alternatives CID:  3 order: 3: []}\n"
     ]
    }
   ],
   "source": [
    "print(Energy)"
   ]
  },
  {
   "cell_type": "code",
   "execution_count": 25,
   "metadata": {},
   "outputs": [
    {
     "name": "stdout",
     "output_type": "stream",
     "text": [
      "Connection(s) from cluster 1Goal CID:  0 order: 0\n",
      " to: 2Criteria CID:  1 order: 1\n",
      "Connection(s) from cluster 2Criteria CID:  1 order: 1\n",
      " to: 3SubCriteria CID:  2 order: 2\n",
      " to: 4Alternatives CID:  3 order: 3\n",
      "Connection(s) from cluster 3SubCriteria CID:  2 order: 2\n",
      " to: 4Alternatives CID:  3 order: 3\n",
      "No connections from 4Alternatives\n"
     ]
    }
   ],
   "source": [
    "Energy.showAllClusterConnections()"
   ]
  },
  {
   "cell_type": "code",
   "execution_count": 26,
   "metadata": {},
   "outputs": [
    {
     "name": "stdout",
     "output_type": "stream",
     "text": [
      "Connections from node GoalNode NID: 0 order: 0\n",
      " to: AmountOfElectricity NID: 1 order: 1\n",
      " to: Reliability NID: 2 order: 2\n",
      " to: Costs NID: 3 order: 3\n",
      " to: EnvironmentalImpact NID: 4 order: 4\n",
      " to: EnergyAmortization NID: 5 order: 5\n",
      " to: Potential NID: 6 order: 6\n",
      "Connections from node AmountOfElectricity NID: 1 order: 1\n",
      " to: WindEnergy NID: 9 order: 9\n",
      " to: Photovoltaic NID: 10 order: 10\n",
      " to: HydroElectric NID: 11 order: 11\n",
      "Connections from node Reliability NID: 2 order: 2\n",
      " to: WindEnergy NID: 9 order: 9\n",
      " to: Photovoltaic NID: 10 order: 10\n",
      " to: HydroElectric NID: 11 order: 11\n",
      "Connections from node Costs NID: 3 order: 3\n",
      " to: OperatingCosts NID: 7 order: 7\n",
      " to: ElectricProductionCosts NID: 8 order: 8\n",
      "Connections from node EnvironmentalImpact NID: 4 order: 4\n",
      " to: WindEnergy NID: 9 order: 9\n",
      " to: Photovoltaic NID: 10 order: 10\n",
      " to: HydroElectric NID: 11 order: 11\n",
      "Connections from node EnergyAmortization NID: 5 order: 5\n",
      " to: WindEnergy NID: 9 order: 9\n",
      " to: Photovoltaic NID: 10 order: 10\n",
      " to: HydroElectric NID: 11 order: 11\n",
      "Connections from node Potential NID: 6 order: 6\n",
      " to: WindEnergy NID: 9 order: 9\n",
      " to: Photovoltaic NID: 10 order: 10\n",
      " to: HydroElectric NID: 11 order: 11\n",
      "Connections from node OperatingCosts NID: 7 order: 7\n",
      " to: WindEnergy NID: 9 order: 9\n",
      " to: Photovoltaic NID: 10 order: 10\n",
      " to: HydroElectric NID: 11 order: 11\n",
      "Connections from node ElectricProductionCosts NID: 8 order: 8\n",
      " to: WindEnergy NID: 9 order: 9\n",
      " to: Photovoltaic NID: 10 order: 10\n",
      " to: HydroElectric NID: 11 order: 11\n",
      "No connections from WindEnergy\n",
      "No connections from Photovoltaic\n",
      "No connections from HydroElectric\n"
     ]
    }
   ],
   "source": [
    "Energy.showAllNodeConnections()"
   ]
  },
  {
   "cell_type": "code",
   "execution_count": 27,
   "metadata": {},
   "outputs": [],
   "source": [
    "##"
   ]
  },
  {
   "cell_type": "code",
   "execution_count": 28,
   "metadata": {},
   "outputs": [
    {
     "name": "stdout",
     "output_type": "stream",
     "text": [
      "[['With respect to GoalNode, which one is more dominant: AmountOfElectricity or Reliability ? By how much?', 'With respect to GoalNode, which one is more dominant: AmountOfElectricity or Costs ? By how much?', 'With respect to GoalNode, which one is more dominant: AmountOfElectricity or EnvironmentalImpact ? By how much?', 'With respect to GoalNode, which one is more dominant: AmountOfElectricity or EnergyAmortization ? By how much?', 'With respect to GoalNode, which one is more dominant: AmountOfElectricity or Potential ? By how much?', 'With respect to GoalNode, which one is more dominant: Reliability or Costs ? By how much?', 'With respect to GoalNode, which one is more dominant: Reliability or EnvironmentalImpact ? By how much?', 'With respect to GoalNode, which one is more dominant: Reliability or EnergyAmortization ? By how much?', 'With respect to GoalNode, which one is more dominant: Reliability or Potential ? By how much?', 'With respect to GoalNode, which one is more dominant: Costs or EnvironmentalImpact ? By how much?', 'With respect to GoalNode, which one is more dominant: Costs or EnergyAmortization ? By how much?', 'With respect to GoalNode, which one is more dominant: Costs or Potential ? By how much?', 'With respect to GoalNode, which one is more dominant: EnvironmentalImpact or EnergyAmortization ? By how much?', 'With respect to GoalNode, which one is more dominant: EnvironmentalImpact or Potential ? By how much?', 'With respect to GoalNode, which one is more dominant: EnergyAmortization or Potential ? By how much?'], ['With respect to AmountOfElectricity, which one is more dominant: WindEnergy or Photovoltaic ? By how much?', 'With respect to AmountOfElectricity, which one is more dominant: WindEnergy or HydroElectric ? By how much?', 'With respect to AmountOfElectricity, which one is more dominant: Photovoltaic or HydroElectric ? By how much?'], ['With respect to Reliability, which one is more dominant: WindEnergy or Photovoltaic ? By how much?', 'With respect to Reliability, which one is more dominant: WindEnergy or HydroElectric ? By how much?', 'With respect to Reliability, which one is more dominant: Photovoltaic or HydroElectric ? By how much?'], ['With respect to Costs, which one is more dominant: OperatingCosts or ElectricProductionCosts ? By how much?'], ['With respect to EnvironmentalImpact, which one is more dominant: WindEnergy or Photovoltaic ? By how much?', 'With respect to EnvironmentalImpact, which one is more dominant: WindEnergy or HydroElectric ? By how much?', 'With respect to EnvironmentalImpact, which one is more dominant: Photovoltaic or HydroElectric ? By how much?'], ['With respect to EnergyAmortization, which one is more dominant: WindEnergy or Photovoltaic ? By how much?', 'With respect to EnergyAmortization, which one is more dominant: WindEnergy or HydroElectric ? By how much?', 'With respect to EnergyAmortization, which one is more dominant: Photovoltaic or HydroElectric ? By how much?'], ['With respect to Potential, which one is more dominant: WindEnergy or Photovoltaic ? By how much?', 'With respect to Potential, which one is more dominant: WindEnergy or HydroElectric ? By how much?', 'With respect to Potential, which one is more dominant: Photovoltaic or HydroElectric ? By how much?'], ['With respect to OperatingCosts, which one is more dominant: WindEnergy or Photovoltaic ? By how much?', 'With respect to OperatingCosts, which one is more dominant: WindEnergy or HydroElectric ? By how much?', 'With respect to OperatingCosts, which one is more dominant: Photovoltaic or HydroElectric ? By how much?'], ['With respect to ElectricProductionCosts, which one is more dominant: WindEnergy or Photovoltaic ? By how much?', 'With respect to ElectricProductionCosts, which one is more dominant: WindEnergy or HydroElectric ? By how much?', 'With respect to ElectricProductionCosts, which one is more dominant: Photovoltaic or HydroElectric ? By how much?']]\n"
     ]
    }
   ],
   "source": [
    "q1 =cdf_inp.genFullQuest(Energy,\"dominant\")\n",
    "print(q1)\n",
    "# cdf_inp.printQuest(q1)"
   ]
  },
  {
   "cell_type": "code",
   "execution_count": 29,
   "metadata": {},
   "outputs": [],
   "source": [
    "cdf_inp.export4ExcelQuestFull(Energy,'EnergyEmpty.xlsx')"
   ]
  },
  {
   "cell_type": "code",
   "execution_count": 30,
   "metadata": {},
   "outputs": [
    {
     "name": "stdout",
     "output_type": "stream",
     "text": [
      "File Len= 63\n",
      "row: 0\n",
      "0 In cluster: 2Criteria\n",
      "[[1.     1.15   1.5    2.2    2.7    1.3   ]\n",
      " [0.8696 1.     1.2    2.     2.25   1.1   ]\n",
      " [0.6667 0.8333 1.     1.7    1.85   0.8   ]\n",
      " [0.4545 0.5    0.5882 1.     1.25   0.5   ]\n",
      " [0.3704 0.4444 0.5405 0.8    1.     0.45  ]\n",
      " [0.7692 0.9091 1.25   2.     2.2222 1.    ]]\n",
      "9 with respect to: AmountOfElectricity\n",
      "10 In cluster: 4Alternatives\n",
      "[[1.     3.     3.25  ]\n",
      " [0.3333 1.     1.1   ]\n",
      " [0.3077 0.9091 1.    ]]\n",
      "16 with respect to: Reliability\n",
      "17 In cluster: 4Alternatives\n",
      "[[1.     1.7    1.5   ]\n",
      " [0.5882 1.     0.9   ]\n",
      " [0.6667 1.1111 1.    ]]\n",
      "23 with respect to: Costs\n",
      "24 In cluster: 3SubCriteria\n",
      "[[1.  0.5]\n",
      " [2.  1. ]]\n",
      "29 with respect to: EnvironmentalImpact\n",
      "30 In cluster: 4Alternatives\n",
      "[[1.     0.8    2.    ]\n",
      " [1.25   1.     3.    ]\n",
      " [0.5    0.3333 1.    ]]\n",
      "36 with respect to: EnergyAmortization\n",
      "37 In cluster: 4Alternatives\n",
      "[[1.     2.75   2.5   ]\n",
      " [0.3636 1.     0.5   ]\n",
      " [0.4    2.     1.    ]]\n",
      "43 with respect to: Potential\n",
      "44 In cluster: 4Alternatives\n",
      "[[1.     1.15   2.    ]\n",
      " [0.8696 1.     1.9   ]\n",
      " [0.5    0.5263 1.    ]]\n",
      "50 with respect to: OperatingCosts\n",
      "51 In cluster: 4Alternatives\n",
      "[[1.     0.5    1.5   ]\n",
      " [2.     1.     2.5   ]\n",
      " [0.6667 0.4    1.    ]]\n",
      "57 with respect to: ElectricProductionCosts\n",
      "58 In cluster: 4Alternatives\n",
      "[[1.     0.65   1.35  ]\n",
      " [1.5385 1.     2.35  ]\n",
      " [0.7407 0.4255 1.    ]]\n"
     ]
    }
   ],
   "source": [
    "cdf_inp.importFromExcel(Energy,\"EnergyFull.xlsx\",0)"
   ]
  },
  {
   "cell_type": "code",
   "execution_count": 32,
   "metadata": {},
   "outputs": [
    {
     "name": "stdout",
     "output_type": "stream",
     "text": [
      "[array([[1.    , 1.15  , 1.5   , 2.2   , 2.7   , 1.3   ],\n",
      "       [0.8696, 1.    , 1.2   , 2.    , 2.25  , 1.1   ],\n",
      "       [0.6667, 0.8333, 1.    , 1.7   , 1.85  , 0.8   ],\n",
      "       [0.4545, 0.5   , 0.5882, 1.    , 1.25  , 0.5   ],\n",
      "       [0.3704, 0.4444, 0.5405, 0.8   , 1.    , 0.45  ],\n",
      "       [0.7692, 0.9091, 1.25  , 2.    , 2.2222, 1.    ]]), array([[1.    , 3.    , 3.25  ],\n",
      "       [0.3333, 1.    , 1.1   ],\n",
      "       [0.3077, 0.9091, 1.    ]]), array([[1.    , 1.7   , 1.5   ],\n",
      "       [0.5882, 1.    , 0.9   ],\n",
      "       [0.6667, 1.1111, 1.    ]]), array([[1. , 0.5],\n",
      "       [2. , 1. ]]), array([[1.    , 0.8   , 2.    ],\n",
      "       [1.25  , 1.    , 3.    ],\n",
      "       [0.5   , 0.3333, 1.    ]]), array([[1.    , 2.75  , 2.5   ],\n",
      "       [0.3636, 1.    , 0.5   ],\n",
      "       [0.4   , 2.    , 1.    ]]), array([[1.    , 1.15  , 2.    ],\n",
      "       [0.8696, 1.    , 1.9   ],\n",
      "       [0.5   , 0.5263, 1.    ]]), array([[1.    , 0.5   , 1.5   ],\n",
      "       [2.    , 1.    , 2.5   ],\n",
      "       [0.6667, 0.4   , 1.    ]]), array([[1.    , 0.65  , 1.35  ],\n",
      "       [1.5385, 1.    , 2.35  ],\n",
      "       [0.7407, 0.4255, 1.    ]])]\n"
     ]
    }
   ],
   "source": [
    "print(Energy.all_pc_matrices)"
   ]
  },
  {
   "cell_type": "code",
   "execution_count": 33,
   "metadata": {},
   "outputs": [
    {
     "name": "stdout",
     "output_type": "stream",
     "text": [
      "[[0.     0.     0.     0.     0.     0.     0.     0.     0.     0.\n",
      "  0.     0.    ]\n",
      " [0.2409 0.     0.     0.     0.     0.     0.     0.     0.     0.\n",
      "  0.     0.    ]\n",
      " [0.2057 0.     0.     0.     0.     0.     0.     0.     0.     0.\n",
      "  0.     0.    ]\n",
      " [0.1655 0.     0.     0.     0.     0.     0.     0.     0.     0.\n",
      "  0.     0.    ]\n",
      " [0.1035 0.     0.     0.     0.     0.     0.     0.     0.     0.\n",
      "  0.     0.    ]\n",
      " [0.0882 0.     0.     0.     0.     0.     0.     0.     0.     0.\n",
      "  0.     0.    ]\n",
      " [0.1962 0.     0.     0.     0.     0.     0.     0.     0.     0.\n",
      "  0.     0.    ]\n",
      " [0.     0.     0.     0.3333 0.     0.     0.     0.     0.     0.\n",
      "  0.     0.    ]\n",
      " [0.     0.     0.     0.6667 0.     0.     0.     0.     0.     0.\n",
      "  0.     0.    ]\n",
      " [0.     0.6093 0.4436 0.     0.3573 0.5599 0.42   0.2785 0.3018 0.\n",
      "  0.     0.    ]\n",
      " [0.     0.2041 0.2627 0.     0.4746 0.1668 0.3761 0.5242 0.4837 0.\n",
      "  0.     0.    ]\n",
      " [0.     0.1865 0.2938 0.     0.1681 0.2733 0.2039 0.1973 0.2145 0.\n",
      "  0.     0.    ]]\n",
      "[[0.     0.     0.     0.     0.     0.     0.     0.     0.     0.\n",
      "  0.     0.    ]\n",
      " [0.2409 0.     0.     0.     0.     0.     0.     0.     0.     0.\n",
      "  0.     0.    ]\n",
      " [0.2057 0.     0.     0.     0.     0.     0.     0.     0.     0.\n",
      "  0.     0.    ]\n",
      " [0.1655 0.     0.     0.     0.     0.     0.     0.     0.     0.\n",
      "  0.     0.    ]\n",
      " [0.1035 0.     0.     0.     0.     0.     0.     0.     0.     0.\n",
      "  0.     0.    ]\n",
      " [0.0882 0.     0.     0.     0.     0.     0.     0.     0.     0.\n",
      "  0.     0.    ]\n",
      " [0.1962 0.     0.     0.     0.     0.     0.     0.     0.     0.\n",
      "  0.     0.    ]\n",
      " [0.     0.     0.     0.3333 0.     0.     0.     0.     0.     0.\n",
      "  0.     0.    ]\n",
      " [0.     0.     0.     0.6667 0.     0.     0.     0.     0.     0.\n",
      "  0.     0.    ]\n",
      " [0.     0.6093 0.4436 0.     0.3573 0.5599 0.42   0.2785 0.3018 0.\n",
      "  0.     0.    ]\n",
      " [0.     0.2041 0.2627 0.     0.4746 0.1668 0.3761 0.5242 0.4837 0.\n",
      "  0.     0.    ]\n",
      " [0.     0.1865 0.2938 0.     0.1681 0.2733 0.2039 0.1973 0.2145 0.\n",
      "  0.     0.    ]]\n"
     ]
    }
   ],
   "source": [
    "super=cdf_calc.calcUnweightedSuperMatrix(Energy)\n",
    "print(super)\n"
   ]
  },
  {
   "cell_type": "code",
   "execution_count": 34,
   "metadata": {},
   "outputs": [
    {
     "name": "stdout",
     "output_type": "stream",
     "text": [
      "[[0.     0.     0.     0.     0.     0.     0.     0.     0.     0.\n",
      "  0.     0.    ]\n",
      " [0.1113 0.     0.     0.     0.     0.     0.     0.     0.     0.\n",
      "  0.     0.    ]\n",
      " [0.095  0.     0.     0.     0.     0.     0.     0.     0.     0.\n",
      "  0.     0.    ]\n",
      " [0.0764 0.     0.     0.     0.     0.     0.     0.     0.     0.\n",
      "  0.     0.    ]\n",
      " [0.0478 0.     0.     0.     0.     0.     0.     0.     0.     0.\n",
      "  0.     0.    ]\n",
      " [0.0407 0.     0.     0.     0.     0.     0.     0.     0.     0.\n",
      "  0.     0.    ]\n",
      " [0.0906 0.     0.     0.     0.     0.     0.     0.     0.     0.\n",
      "  0.     0.    ]\n",
      " [0.0255 0.     0.     0.1667 0.     0.     0.     0.     0.     0.\n",
      "  0.     0.    ]\n",
      " [0.0509 0.     0.     0.3333 0.     0.     0.     0.     0.     0.\n",
      "  0.     0.    ]\n",
      " [0.2103 0.6093 0.4436 0.147  0.3573 0.5599 0.42   0.2785 0.3018 0.\n",
      "  0.     0.    ]\n",
      " [0.1492 0.2041 0.2627 0.2486 0.4746 0.1668 0.3761 0.5242 0.4837 0.\n",
      "  0.     0.    ]\n",
      " [0.1023 0.1865 0.2938 0.1044 0.1681 0.2733 0.2039 0.1973 0.2145 0.\n",
      "  0.     0.    ]]\n"
     ]
    }
   ],
   "source": [
    "ret=cdf_calc.calcHierarchy(Energy.supermatrix)\n",
    "print(ret)"
   ]
  },
  {
   "cell_type": "code",
   "execution_count": 35,
   "metadata": {},
   "outputs": [
    {
     "name": "stdout",
     "output_type": "stream",
     "text": [
      "[0.     0.1113 0.095  0.0764 0.0478 0.0407 0.0906 0.0255 0.0509 0.2103\n",
      " 0.1492 0.1023]\n"
     ]
    }
   ],
   "source": [
    "limit=cdf_calc.calcLimitingPriorities(Energy.supermatrix)"
   ]
  },
  {
   "cell_type": "code",
   "execution_count": 36,
   "metadata": {},
   "outputs": [],
   "source": [
    "bycluster=cdf_calc.calcPrioritiesNormalizedByCluster(Energy.supermatrix,Energy)"
   ]
  },
  {
   "cell_type": "code",
   "execution_count": 37,
   "metadata": {},
   "outputs": [
    {
     "name": "stdout",
     "output_type": "stream",
     "text": [
      "0.0\n",
      "Synthesized results: [0.3955 0.3743 0.2302]\n",
      "0.1\n",
      "Synthesized results: [0.4182 0.3562 0.2255]\n",
      "0.2\n",
      "Synthesized results: [0.4366 0.3416 0.2218]\n",
      "0.30000000000000004\n",
      "Synthesized results: [0.4517 0.3296 0.2187]\n",
      "0.4\n",
      "Synthesized results: [0.4644 0.3195 0.2161]\n",
      "0.5\n",
      "Synthesized results: [0.4752 0.3109 0.2139]\n",
      "0.6000000000000001\n",
      "Synthesized results: [0.4845 0.3035 0.212 ]\n",
      "0.7000000000000001\n",
      "Synthesized results: [0.4926 0.297  0.2104]\n",
      "0.8\n",
      "Synthesized results: [0.4997 0.2914 0.2089]\n",
      "0.9\n",
      "Synthesized results: [0.506  0.2864 0.2076]\n",
      "1.0\n",
      "Synthesized results: [0.5116 0.2819 0.2065]\n",
      "0.0\n",
      "Synthesized results: [0.3955 0.3743 0.2302]\n",
      "0.1\n",
      "Synthesized results: [0.4182 0.3562 0.2255]\n",
      "0.2\n",
      "Synthesized results: [0.4366 0.3416 0.2218]\n",
      "0.30000000000000004\n",
      "Synthesized results: [0.4517 0.3296 0.2187]\n",
      "0.4\n",
      "Synthesized results: [0.4644 0.3195 0.2161]\n",
      "0.5\n",
      "Synthesized results: [0.4752 0.3109 0.2139]\n",
      "0.6000000000000001\n",
      "Synthesized results: [0.4845 0.3035 0.212 ]\n",
      "0.7000000000000001\n",
      "Synthesized results: [0.4926 0.297  0.2104]\n",
      "0.8\n",
      "Synthesized results: [0.4997 0.2914 0.2089]\n",
      "0.9\n",
      "Synthesized results: [0.506  0.2864 0.2076]\n",
      "1.0\n",
      "Synthesized results: [0.5116 0.2819 0.2065]\n"
     ]
    },
    {
     "data": {
      "image/png": "[encoded data removed]",
      "text/plain": [
       "<Figure size 432x288 with 1 Axes>"
      ]
     },
     "metadata": {
      "needs_background": "light"
     },
     "output_type": "display_data"
    }
   ],
   "source": [
    "cdf_calc.sensitivityCellSupermatrixShort(super,1,\"4Alternatives\",Energy)\n",
    "\n",
    "cdf_calc.sensitivityCellSupermatrixPlot(super,1,\"4Alternatives\",Energy)"
   ]
  },
  {
   "cell_type": "code",
   "execution_count": 38,
   "metadata": {},
   "outputs": [
    {
     "name": "stdout",
     "output_type": "stream",
     "text": [
      "0.0\n",
      "Synthesized results: [0.443  0.3537 0.2033]\n",
      "0.1\n",
      "Synthesized results: [0.4431 0.3444 0.2125]\n",
      "0.2\n",
      "Synthesized results: [0.4431 0.3368 0.2201]\n",
      "0.30000000000000004\n",
      "Synthesized results: [0.4431 0.3305 0.2263]\n",
      "0.4\n",
      "Synthesized results: [0.4432 0.3252 0.2316]\n",
      "0.5\n",
      "Synthesized results: [0.4432 0.3207 0.2361]\n",
      "0.6000000000000001\n",
      "Synthesized results: [0.4432 0.3167 0.24  ]\n",
      "0.7000000000000001\n",
      "Synthesized results: [0.4433 0.3133 0.2434]\n",
      "0.8\n",
      "Synthesized results: [0.4433 0.3103 0.2464]\n",
      "0.9\n",
      "Synthesized results: [0.4433 0.3076 0.2491]\n",
      "1.0\n",
      "Synthesized results: [0.4433 0.3052 0.2515]\n",
      "0.0\n",
      "Synthesized results: [0.443  0.3537 0.2033]\n",
      "0.1\n",
      "Synthesized results: [0.4431 0.3444 0.2125]\n",
      "0.2\n",
      "Synthesized results: [0.4431 0.3368 0.2201]\n",
      "0.30000000000000004\n",
      "Synthesized results: [0.4431 0.3305 0.2263]\n",
      "0.4\n",
      "Synthesized results: [0.4432 0.3252 0.2316]\n",
      "0.5\n",
      "Synthesized results: [0.4432 0.3207 0.2361]\n",
      "0.6000000000000001\n",
      "Synthesized results: [0.4432 0.3167 0.24  ]\n",
      "0.7000000000000001\n",
      "Synthesized results: [0.4433 0.3133 0.2434]\n",
      "0.8\n",
      "Synthesized results: [0.4433 0.3103 0.2464]\n",
      "0.9\n",
      "Synthesized results: [0.4433 0.3076 0.2491]\n",
      "1.0\n",
      "Synthesized results: [0.4433 0.3052 0.2515]\n"
     ]
    },
    {
     "data": {
      "image/png": "[encoded data removed]",
      "text/plain": [
       "<Figure size 432x288 with 1 Axes>"
      ]
     },
     "metadata": {
      "needs_background": "light"
     },
     "output_type": "display_data"
    }
   ],
   "source": [
    "cdf_calc.sensitivityCellSupermatrixShort(super,2,\"4Alternatives\",Energy)\n",
    "\n",
    "cdf_calc.sensitivityCellSupermatrixPlot(super,2,\"4Alternatives\",Energy)"
   ]
  },
  {
   "cell_type": "code",
   "execution_count": 39,
   "metadata": {},
   "outputs": [
    {
     "name": "stdout",
     "output_type": "stream",
     "text": [
      "0.0\n",
      "Synthesized results: [0.4431 0.3364 0.2205]\n",
      "0.1\n",
      "Synthesized results: [0.4292 0.3523 0.2185]\n",
      "0.2\n",
      "Synthesized results: [0.4174 0.3657 0.2168]\n",
      "0.30000000000000004\n",
      "Synthesized results: [0.4074 0.3772 0.2154]\n",
      "0.4\n",
      "Synthesized results: [0.3987 0.3871 0.2142]\n",
      "0.5\n",
      "Synthesized results: [0.3911 0.3957 0.2131]\n",
      "0.6000000000000001\n",
      "Synthesized results: [0.3844 0.4034 0.2122]\n",
      "0.7000000000000001\n",
      "Synthesized results: [0.3785 0.4102 0.2114]\n",
      "0.8\n",
      "Synthesized results: [0.3732 0.4162 0.2106]\n",
      "0.9\n",
      "Synthesized results: [0.3684 0.4217 0.2099]\n",
      "1.0\n",
      "Synthesized results: [0.3641 0.4266 0.2093]\n",
      "0.0\n",
      "Synthesized results: [0.4431 0.3364 0.2205]\n",
      "0.1\n",
      "Synthesized results: [0.4292 0.3523 0.2185]\n",
      "0.2\n",
      "Synthesized results: [0.4174 0.3657 0.2168]\n",
      "0.30000000000000004\n",
      "Synthesized results: [0.4074 0.3772 0.2154]\n",
      "0.4\n",
      "Synthesized results: [0.3987 0.3871 0.2142]\n",
      "0.5\n",
      "Synthesized results: [0.3911 0.3957 0.2131]\n",
      "0.6000000000000001\n",
      "Synthesized results: [0.3844 0.4034 0.2122]\n",
      "0.7000000000000001\n",
      "Synthesized results: [0.3785 0.4102 0.2114]\n",
      "0.8\n",
      "Synthesized results: [0.3732 0.4162 0.2106]\n",
      "0.9\n",
      "Synthesized results: [0.3684 0.4217 0.2099]\n",
      "1.0\n",
      "Synthesized results: [0.3641 0.4266 0.2093]\n"
     ]
    },
    {
     "data": {
      "image/png": "[encoded data removed]",
      "text/plain": [
       "<Figure size 432x288 with 1 Axes>"
      ]
     },
     "metadata": {
      "needs_background": "light"
     },
     "output_type": "display_data"
    }
   ],
   "source": [
    "cdf_calc.sensitivityCellSupermatrixShort(super,7,\"4Alternatives\",Energy)\n",
    "\n",
    "cdf_calc.sensitivityCellSupermatrixPlot(super,7,\"4Alternatives\",Energy)"
   ]
  },
  {
   "cell_type": "code",
   "execution_count": 40,
   "metadata": {},
   "outputs": [
    {
     "name": "stdout",
     "output_type": "stream",
     "text": [
      "0.0\n",
      "Synthesized results: [0.4431 0.3364 0.2205]\n",
      "0.1\n",
      "Synthesized results: [0.4312 0.3489 0.22  ]\n",
      "0.2\n",
      "Synthesized results: [0.4211 0.3594 0.2195]\n",
      "0.30000000000000004\n",
      "Synthesized results: [0.4124 0.3684 0.2192]\n",
      "0.4\n",
      "Synthesized results: [0.405  0.3762 0.2188]\n",
      "0.5\n",
      "Synthesized results: [0.3985 0.383  0.2186]\n",
      "0.6000000000000001\n",
      "Synthesized results: [0.3927 0.389  0.2183]\n",
      "0.7000000000000001\n",
      "Synthesized results: [0.3876 0.3943 0.2181]\n",
      "0.8\n",
      "Synthesized results: [0.383  0.399  0.2179]\n",
      "0.9\n",
      "Synthesized results: [0.3789 0.4033 0.2178]\n",
      "1.0\n",
      "Synthesized results: [0.3752 0.4072 0.2176]\n",
      "0.0\n",
      "Synthesized results: [0.4431 0.3364 0.2205]\n",
      "0.1\n",
      "Synthesized results: [0.4312 0.3489 0.22  ]\n",
      "0.2\n",
      "Synthesized results: [0.4211 0.3594 0.2195]\n",
      "0.30000000000000004\n",
      "Synthesized results: [0.4124 0.3684 0.2192]\n",
      "0.4\n",
      "Synthesized results: [0.405  0.3762 0.2188]\n",
      "0.5\n",
      "Synthesized results: [0.3985 0.383  0.2186]\n",
      "0.6000000000000001\n",
      "Synthesized results: [0.3927 0.389  0.2183]\n",
      "0.7000000000000001\n",
      "Synthesized results: [0.3876 0.3943 0.2181]\n",
      "0.8\n",
      "Synthesized results: [0.383  0.399  0.2179]\n",
      "0.9\n",
      "Synthesized results: [0.3789 0.4033 0.2178]\n",
      "1.0\n",
      "Synthesized results: [0.3752 0.4072 0.2176]\n"
     ]
    },
    {
     "data": {
      "image/png": "[encoded data removed]",
      "text/plain": [
       "<Figure size 432x288 with 1 Axes>"
      ]
     },
     "metadata": {
      "needs_background": "light"
     },
     "output_type": "display_data"
    }
   ],
   "source": [
    "cdf_calc.sensitivityCellSupermatrixShort(super,8,\"4Alternatives\",Energy)\n",
    "\n",
    "cdf_calc.sensitivityCellSupermatrixPlot(super,8,\"4Alternatives\",Energy)"
   ]
  },
  {
   "cell_type": "code",
   "execution_count": 41,
   "metadata": {},
   "outputs": [
    {
     "name": "stdout",
     "output_type": "stream",
     "text": [
      "0.0\n",
      "Synthesized results: [0.4522 0.3218 0.226 ]\n",
      "0.1\n",
      "Synthesized results: [0.4434 0.336  0.2206]\n",
      "0.2\n",
      "Synthesized results: [0.4361 0.3477 0.2162]\n",
      "0.30000000000000004\n",
      "Synthesized results: [0.4299 0.3577 0.2124]\n",
      "0.4\n",
      "Synthesized results: [0.4247 0.3661 0.2092]\n",
      "0.5\n",
      "Synthesized results: [0.4201 0.3735 0.2064]\n",
      "0.6000000000000001\n",
      "Synthesized results: [0.4161 0.3799 0.204 ]\n",
      "0.7000000000000001\n",
      "Synthesized results: [0.4126 0.3855 0.2019]\n",
      "0.8\n",
      "Synthesized results: [0.4095 0.3905 0.2   ]\n",
      "0.9\n",
      "Synthesized results: [0.4067 0.395  0.1983]\n",
      "1.0\n",
      "Synthesized results: [0.4042 0.399  0.1967]\n",
      "0.0\n",
      "Synthesized results: [0.4522 0.3218 0.226 ]\n",
      "0.1\n",
      "Synthesized results: [0.4434 0.336  0.2206]\n",
      "0.2\n",
      "Synthesized results: [0.4361 0.3477 0.2162]\n",
      "0.30000000000000004\n",
      "Synthesized results: [0.4299 0.3577 0.2124]\n",
      "0.4\n",
      "Synthesized results: [0.4247 0.3661 0.2092]\n",
      "0.5\n",
      "Synthesized results: [0.4201 0.3735 0.2064]\n",
      "0.6000000000000001\n",
      "Synthesized results: [0.4161 0.3799 0.204 ]\n",
      "0.7000000000000001\n",
      "Synthesized results: [0.4126 0.3855 0.2019]\n",
      "0.8\n",
      "Synthesized results: [0.4095 0.3905 0.2   ]\n",
      "0.9\n",
      "Synthesized results: [0.4067 0.395  0.1983]\n",
      "1.0\n",
      "Synthesized results: [0.4042 0.399  0.1967]\n"
     ]
    },
    {
     "data": {
      "image/png": "[encoded data removed]",
      "text/plain": [
       "<Figure size 432x288 with 1 Axes>"
      ]
     },
     "metadata": {
      "needs_background": "light"
     },
     "output_type": "display_data"
    }
   ],
   "source": [
    "cdf_calc.sensitivityCellSupermatrixShort(super,4,\"4Alternatives\",Energy)\n",
    "\n",
    "cdf_calc.sensitivityCellSupermatrixPlot(super,4,\"4Alternatives\",Energy)"
   ]
  },
  {
   "cell_type": "code",
   "execution_count": 42,
   "metadata": {},
   "outputs": [
    {
     "name": "stdout",
     "output_type": "stream",
     "text": [
      "0.0\n",
      "Synthesized results: [0.4328 0.3515 0.2158]\n",
      "0.1\n",
      "Synthesized results: [0.4444 0.3346 0.221 ]\n",
      "0.2\n",
      "Synthesized results: [0.454  0.3206 0.2254]\n",
      "0.30000000000000004\n",
      "Synthesized results: [0.4622 0.3087 0.2291]\n",
      "0.4\n",
      "Synthesized results: [0.4692 0.2985 0.2323]\n",
      "0.5\n",
      "Synthesized results: [0.4753 0.2897 0.235 ]\n",
      "0.6000000000000001\n",
      "Synthesized results: [0.4806 0.282  0.2374]\n",
      "0.7000000000000001\n",
      "Synthesized results: [0.4853 0.2752 0.2395]\n",
      "0.8\n",
      "Synthesized results: [0.4894 0.2691 0.2414]\n",
      "0.9\n",
      "Synthesized results: [0.4931 0.2637 0.2431]\n",
      "1.0\n",
      "Synthesized results: [0.4965 0.2589 0.2446]\n",
      "0.0\n",
      "Synthesized results: [0.4328 0.3515 0.2158]\n",
      "0.1\n",
      "Synthesized results: [0.4444 0.3346 0.221 ]\n",
      "0.2\n",
      "Synthesized results: [0.454  0.3206 0.2254]\n",
      "0.30000000000000004\n",
      "Synthesized results: [0.4622 0.3087 0.2291]\n",
      "0.4\n",
      "Synthesized results: [0.4692 0.2985 0.2323]\n",
      "0.5\n",
      "Synthesized results: [0.4753 0.2897 0.235 ]\n",
      "0.6000000000000001\n",
      "Synthesized results: [0.4806 0.282  0.2374]\n",
      "0.7000000000000001\n",
      "Synthesized results: [0.4853 0.2752 0.2395]\n",
      "0.8\n",
      "Synthesized results: [0.4894 0.2691 0.2414]\n",
      "0.9\n",
      "Synthesized results: [0.4931 0.2637 0.2431]\n",
      "1.0\n",
      "Synthesized results: [0.4965 0.2589 0.2446]\n"
     ]
    },
    {
     "data": {
      "image/png": "[encoded data removed]",
      "text/plain": [
       "<Figure size 432x288 with 1 Axes>"
      ]
     },
     "metadata": {
      "needs_background": "light"
     },
     "output_type": "display_data"
    }
   ],
   "source": [
    "cdf_calc.sensitivityCellSupermatrixShort(super,5,\"4Alternatives\",Energy)\n",
    "\n",
    "cdf_calc.sensitivityCellSupermatrixPlot(super,5,\"4Alternatives\",Energy)"
   ]
  },
  {
   "cell_type": "code",
   "execution_count": 43,
   "metadata": {},
   "outputs": [
    {
     "name": "stdout",
     "output_type": "stream",
     "text": [
      "0.0\n",
      "Synthesized results: [0.4482 0.3276 0.2241]\n",
      "0.1\n",
      "Synthesized results: [0.4454 0.3326 0.2221]\n",
      "0.2\n",
      "Synthesized results: [0.443  0.3366 0.2204]\n",
      "0.30000000000000004\n",
      "Synthesized results: [0.4411 0.3399 0.219 ]\n",
      "0.4\n",
      "Synthesized results: [0.4394 0.3427 0.2178]\n",
      "0.5\n",
      "Synthesized results: [0.438  0.3451 0.2168]\n",
      "0.6000000000000001\n",
      "Synthesized results: [0.4368 0.3472 0.216 ]\n",
      "0.7000000000000001\n",
      "Synthesized results: [0.4358 0.349  0.2152]\n",
      "0.8\n",
      "Synthesized results: [0.4348 0.3506 0.2145]\n",
      "0.9\n",
      "Synthesized results: [0.434  0.3521 0.2139]\n",
      "1.0\n",
      "Synthesized results: [0.4333 0.3533 0.2134]\n",
      "0.0\n",
      "Synthesized results: [0.4482 0.3276 0.2241]\n",
      "0.1\n",
      "Synthesized results: [0.4454 0.3326 0.2221]\n",
      "0.2\n",
      "Synthesized results: [0.443  0.3366 0.2204]\n",
      "0.30000000000000004\n",
      "Synthesized results: [0.4411 0.3399 0.219 ]\n",
      "0.4\n",
      "Synthesized results: [0.4394 0.3427 0.2178]\n",
      "0.5\n",
      "Synthesized results: [0.438  0.3451 0.2168]\n",
      "0.6000000000000001\n",
      "Synthesized results: [0.4368 0.3472 0.216 ]\n",
      "0.7000000000000001\n",
      "Synthesized results: [0.4358 0.349  0.2152]\n",
      "0.8\n",
      "Synthesized results: [0.4348 0.3506 0.2145]\n",
      "0.9\n",
      "Synthesized results: [0.434  0.3521 0.2139]\n",
      "1.0\n",
      "Synthesized results: [0.4333 0.3533 0.2134]\n"
     ]
    },
    {
     "data": {
      "image/png": "[encoded data removed]",
      "text/plain": [
       "<Figure size 432x288 with 1 Axes>"
      ]
     },
     "metadata": {
      "needs_background": "light"
     },
     "output_type": "display_data"
    }
   ],
   "source": [
    "cdf_calc.sensitivityCellSupermatrixShort(super,6,\"4Alternatives\",Energy)\n",
    "\n",
    "cdf_calc.sensitivityCellSupermatrixPlot(super,6,\"4Alternatives\",Energy)"
   ]
  },
  {
   "cell_type": "code",
   "execution_count": 44,
   "metadata": {},
   "outputs": [
    {
     "name": "stdout",
     "output_type": "stream",
     "text": [
      "[[0.     0.     0.     0.     0.     0.     0.     0.     0.     0.\n",
      "  0.     0.    ]\n",
      " [0.2409 0.     0.     0.     0.     0.     0.     0.     0.     0.\n",
      "  0.     0.    ]\n",
      " [0.2057 0.     0.     0.     0.     0.     0.     0.     0.     0.\n",
      "  0.     0.    ]\n",
      " [0.1655 0.     0.     0.     0.     0.     0.     0.     0.     0.\n",
      "  0.     0.    ]\n",
      " [0.1035 0.     0.     0.     0.     0.     0.     0.     0.     0.\n",
      "  0.     0.    ]\n",
      " [0.0882 0.     0.     0.     0.     0.     0.     0.     0.     0.\n",
      "  0.     0.    ]\n",
      " [0.1962 0.     0.     0.     0.     0.     0.     0.     0.     0.\n",
      "  0.     0.    ]\n",
      " [0.     0.     0.     0.3333 0.     0.     0.     0.     0.     0.\n",
      "  0.     0.    ]\n",
      " [0.     0.     0.     0.6667 0.     0.     0.     0.     0.     0.\n",
      "  0.     0.    ]\n",
      " [0.     0.6093 0.4436 0.     0.3573 0.5599 0.42   0.2785 0.3018 0.\n",
      "  0.     0.    ]\n",
      " [0.     0.2041 0.2627 0.     0.4746 0.1668 0.3761 0.5242 0.4837 0.\n",
      "  0.     0.    ]\n",
      " [0.     0.1865 0.2938 0.     0.1681 0.2733 0.2039 0.1973 0.2145 0.\n",
      "  0.     0.    ]]\n",
      "[0.     0.1113 0.095  0.0764 0.0478 0.0407 0.0906 0.0255 0.0509 0.2103\n",
      " 0.1492 0.1023]\n"
     ]
    }
   ],
   "source": [
    "#ER - Proposed commands\n",
    "\n",
    "# print(Energy.all_pc_matrices)\n",
    "listTitles=cdf_calc.nodeNameList(Energy)\n",
    "\n",
    "super=cdf_calc.calcUnweightedSuperMatrix(Energy)\n",
    "\n",
    "df = pd.DataFrame (super,index=listTitles,columns=listTitles)\n",
    "filepath = \"excelSupermatrix.xlsx\"\n",
    "df.to_excel(filepath)\n",
    "\n",
    "\n",
    "limit = cdf_calc.calcLimitingPriorities(Energy.supermatrix)\n",
    "df2 = pd.DataFrame (limit,index=listTitles)\n",
    "filepath = \"excelLimitPriorities.xlsx\"\n",
    "df2.to_excel(filepath)\n",
    "\n",
    "bycluster = cdf_calc.calcPrioritiesNormalizedByCluster(Energy.supermatrix, Energy)\n",
    "df3 = pd.DataFrame (bycluster,index=listTitles)\n",
    "filepath = \"excelLimitByCluster.xlsx\"\n",
    "df3.to_excel(filepath)\n"
   ]
  }
 ],
 "metadata": {
  "kernelspec": {
   "display_name": "Python 3 (ipykernel)",
   "language": "python",
   "name": "python3"
  },
  "language_info": {
   "codemirror_mode": {
    "name": "ipython",
    "version": 3
   },
   "file_extension": ".py",
   "mimetype": "text/x-python",
   "name": "python",
   "nbconvert_exporter": "python",
   "pygments_lexer": "ipython3",
   "version": "3.9.7"
  },
  "vscode": {
   "interpreter": {
    "hash": "fca07e92bab9303d45da722a69a746796c5862dda9b3022f2f218e8fbf3eed75"
   }
  }
 },
 "nbformat": 4,
 "nbformat_minor": 4
}
