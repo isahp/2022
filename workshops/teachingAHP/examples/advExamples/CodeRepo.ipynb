{
  "cells": [
    {
      "cell_type": "markdown",
      "metadata": {},
      "source": [
        "# Final Project\n",
        "## Stacey Banks and Desirae Crocker\n",
        "## Code Repository Decision"
      ]
    },
    {
      "cell_type": "markdown",
      "metadata": {},
      "source": []
    },
    {
      "cell_type": "markdown",
      "metadata": {},
      "source": [
        "### 1. Setup the Model"
      ]
    },
    {
      "cell_type": "code",
      "execution_count": 1,
      "metadata": {
        "trusted": true
      },
      "outputs": [],
      "source": [
        "# import the required components\n",
        "import pandas as pd\n",
        "import numpy as np\n",
        "\n",
        "import inputs_AHPLib as cdf_inp\n",
        "import structs_AHPLib as cdf_str\n",
        "import calcs_AHPLib as cdf_calc\n",
        "# set here the number of decimals that you want to be displayed\n",
        "%precision 4\n",
        "\n",
        "# Create a model\n",
        "repoModel = cdf_str.Model()"
      ]
    },
    {
      "cell_type": "markdown",
      "metadata": {},
      "source": [
        "### 2. Create the goal, criteria, subcriteria, and alternative nodes."
      ]
    },
    {
      "cell_type": "code",
      "execution_count": 2,
      "metadata": {
        "trusted": true
      },
      "outputs": [
        {
          "name": "stdout",
          "output_type": "stream",
          "text": [
            "Goal:\n",
            " Goal NID: 0 order: 1\n",
            "Criteria:\n",
            " Functionality NID: 1 order: 2 \n",
            " Security NID: 2 order: 3 \n",
            " Support and Maintenance NID: 3 order: 4 \n",
            " Implementation Effort NID: 4 order: 5 \n",
            " Recurring Cost NID: 5 order: 6\n"
          ]
        }
      ],
      "source": [
        "# Create goal node\n",
        "goalNode = cdf_str.Node(\"Goal\", 1)\n",
        "print(\"Goal:\\n\", goalNode)\n",
        "\n",
        "# Create criteria nodes\n",
        "functionalityNode = cdf_str.Node(\"Functionality\", 2)\n",
        "securityNode = cdf_str.Node(\"Security\", 3)\n",
        "supportNode = cdf_str.Node(\"Support and Maintenance\", 4)\n",
        "impEffortNode = cdf_str.Node(\"Implementation Effort\", 5)\n",
        "recurCostNode = cdf_str.Node(\"Recurring Cost\", 6)\n",
        "print(\"Criteria:\\n\",functionalityNode, \"\\n\", securityNode, \"\\n\", supportNode, \"\\n\", impEffortNode, \"\\n\",recurCostNode)"
      ]
    },
    {
      "cell_type": "code",
      "execution_count": 3,
      "metadata": {
        "trusted": true
      },
      "outputs": [],
      "source": [
        "# Create functionality subcriteria nodes\n",
        "rolesNode = cdf_str.Node(\"User Roles\", 7)\n",
        "buildNode = cdf_str.Node(\"Build Functionality\", 8)\n",
        "devWorkflowNode = cdf_str.Node(\"Development Workflow Solution\", 9)\n",
        "familiarNode = cdf_str.Node(\"Familiarity\", 10)\n",
        "\n",
        "# Create security subcriteria nodes\n",
        "securityUpdateNode = cdf_str.Node(\"Security Updates\", 11)\n",
        "serverLocationNode = cdf_str.Node(\"Server Location\", 12)\n",
        "dataMgmtNode = cdf_str.Node(\"Customer Data Management\", 13)\n",
        "\n",
        "# Create support and maintenance subcriteria nodes\n",
        "vendorSupportNode = cdf_str.Node(\"Vendor Support Quality\", 14)\n",
        "updateNode = cdf_str.Node(\"Update Responsibility\", 15)\n",
        "internalSupportNode = cdf_str.Node(\"Internal Support and Maintenance\", 16)\n",
        "\n",
        "# Create implementation effort subcriteria nodes\n",
        "internalEffortNode = cdf_str.Node(\"Internal Implementation Effort\",17)\n",
        "vendorEffortNode = cdf_str.Node(\"Vendor Implementation Effort\", 18)\n",
        "\n",
        "# Create recurring cost subcriteria nodes\n",
        "subCostNode = cdf_str.Node(\"Yearly Subscription Cost\", 19)\n",
        "recurInternalCostNode = cdf_str.Node(\"Internal Yearly Support Cost\", 20)"
      ]
    },
    {
      "cell_type": "code",
      "execution_count": 4,
      "metadata": {
        "trusted": true
      },
      "outputs": [
        {
          "name": "stdout",
          "output_type": "stream",
          "text": [
            "Alternatives:\n",
            " GitLab On-Prem NID: 20 order: 21 \n",
            " GitLab Cloud NID: 21 order: 22 \n",
            " GitHub Cloud NID: 22 order: 23\n"
          ]
        }
      ],
      "source": [
        "# Create alternatives subcriteria nodes\n",
        "gitLabOnPremNode = cdf_str.Node(\"GitLab On-Prem\", 21)\n",
        "gitLabCloudNode = cdf_str.Node(\"GitLab Cloud\", 22)\n",
        "gitHubCloudNode = cdf_str.Node(\"GitHub Cloud\", 23)\n",
        "print(\"Alternatives:\\n\", gitLabOnPremNode, \"\\n\", gitLabCloudNode, \"\\n\", gitHubCloudNode)"
      ]
    },
    {
      "cell_type": "markdown",
      "metadata": {},
      "source": [
        "### 3. Create the clusters, add nodes to them, and then add clusters to the model."
      ]
    },
    {
      "cell_type": "code",
      "execution_count": 5,
      "metadata": {
        "trusted": true
      },
      "outputs": [],
      "source": [
        "# Create clusters\n",
        "goalCluster = cdf_str.Cluster(\"Goal\", 0)\n",
        "criteriaCluster = cdf_str.Cluster(\"Criteria\", 1)\n",
        "functionalityCluster = cdf_str.Cluster(\"Functionality Cluster\", 2)\n",
        "securityCluster = cdf_str.Cluster(\"Security Cluster\", 3)\n",
        "supportCluster = cdf_str.Cluster(\"Support and Maintenance Cluster\", 4)\n",
        "impEffortCluster = cdf_str.Cluster(\"Implementation Effort Cluster\", 5)\n",
        "recurCostCluster = cdf_str.Cluster(\"Recurring Cost Cluster\", 6)\n",
        "altCluster = cdf_str.Cluster(\"Alternatives Cluster\", 7)"
      ]
    },
    {
      "cell_type": "code",
      "execution_count": 6,
      "metadata": {
        "trusted": true
      },
      "outputs": [],
      "source": [
        "# Add nodes to clusters\n",
        "\n",
        "goalCluster.addNode2Cluster(goalNode)\n",
        "\n",
        "criteriaCluster.addNode2Cluster(functionalityNode)\n",
        "criteriaCluster.addNode2Cluster(securityNode)\n",
        "criteriaCluster.addNode2Cluster(supportNode)\n",
        "criteriaCluster.addNode2Cluster(impEffortNode)\n",
        "criteriaCluster.addNode2Cluster(recurCostNode)\n",
        "\n",
        "functionalityCluster.addNode2Cluster(rolesNode)\n",
        "functionalityCluster.addNode2Cluster(buildNode)\n",
        "functionalityCluster.addNode2Cluster(devWorkflowNode)\n",
        "functionalityCluster.addNode2Cluster(familiarNode)\n",
        "\n",
        "securityCluster.addNode2Cluster(securityUpdateNode)\n",
        "securityCluster.addNode2Cluster(serverLocationNode)\n",
        "securityCluster.addNode2Cluster(dataMgmtNode)\n",
        "\n",
        "supportCluster.addNode2Cluster(vendorSupportNode)\n",
        "supportCluster.addNode2Cluster(updateNode)\n",
        "supportCluster.addNode2Cluster(internalSupportNode)\n",
        "\n",
        "impEffortCluster.addNode2Cluster(internalEffortNode)\n",
        "impEffortCluster.addNode2Cluster(vendorEffortNode)\n",
        "\n",
        "recurCostCluster.addNode2Cluster(subCostNode)\n",
        "recurCostCluster.addNode2Cluster(recurInternalCostNode)\n",
        "\n",
        "altCluster.addNode2Cluster(gitLabOnPremNode)\n",
        "altCluster.addNode2Cluster(gitLabCloudNode)\n",
        "altCluster.addNode2Cluster(gitHubCloudNode)\n"
      ]
    },
    {
      "cell_type": "code",
      "execution_count": 7,
      "metadata": {
        "trusted": true
      },
      "outputs": [],
      "source": [
        "# Add clusters to model\n",
        "repoModel.addCluster2Model(goalCluster)\n",
        "repoModel.addCluster2Model(criteriaCluster)\n",
        "repoModel.addCluster2Model(functionalityCluster)\n",
        "repoModel.addCluster2Model(securityCluster)\n",
        "repoModel.addCluster2Model(supportCluster)\n",
        "repoModel.addCluster2Model(impEffortCluster)\n",
        "repoModel.addCluster2Model(recurCostCluster)\n",
        "repoModel.addCluster2Model(altCluster)"
      ]
    },
    {
      "cell_type": "code",
      "execution_count": 8,
      "metadata": {},
      "outputs": [
        {
          "name": "stdout",
          "output_type": "stream",
          "text": [
            "Nodes: [Goal NID: 0 order: 1, Functionality NID: 1 order: 2, Security NID: 2 order: 3, Support and Maintenance NID: 3 order: 4, Implementation Effort NID: 4 order: 5, Recurring Cost NID: 5 order: 6, User Roles NID: 6 order: 7, Build Functionality NID: 7 order: 8, Development Workflow Solution NID: 8 order: 9, Familiarity NID: 9 order: 10, Security Updates NID: 10 order: 11, Server Location NID: 11 order: 12, Customer Data Management NID: 12 order: 13, Vendor Support Quality NID: 13 order: 14, Update Responsibility NID: 14 order: 15, Internal Support and Maintenance NID: 15 order: 16, Internal Implementation Effort NID: 16 order: 17, Vendor Implementation Effort NID: 17 order: 18, Yearly Subscription Cost NID: 18 order: 19, Internal Yearly Support Cost NID: 19 order: 20, GitLab On-Prem NID: 20 order: 21, GitLab Cloud NID: 21 order: 22, GitHub Cloud NID: 22 order: 23]\n",
            " Clusters: [Goal CID:  0 order: 0, Criteria CID:  1 order: 1, Functionality Cluster CID:  2 order: 2, Security Cluster CID:  3 order: 3, Support and Maintenance Cluster CID:  4 order: 4, Implementation Effort Cluster CID:  5 order: 5, Recurring Cost Cluster CID:  6 order: 6, Alternatives Cluster CID:  7 order: 7]\n",
            " Node Connections: []\n",
            " Cluster Connections: []\n"
          ]
        }
      ],
      "source": [
        "# Print model as a check\n",
        "print(repoModel)"
      ]
    },
    {
      "cell_type": "markdown",
      "metadata": {},
      "source": [
        "### 4. Setup connections"
      ]
    },
    {
      "cell_type": "code",
      "execution_count": 9,
      "metadata": {},
      "outputs": [],
      "source": [
        "# Setup node connections\n",
        "\n",
        "# Create all connections from the Goal node to Criteria cluster\n",
        "repoModel.addNodeConnectionFromNodeToAllNodesOfCluster(\"Goal\", \"Criteria\")\n",
        "\n",
        "# Create all connections from the Functionality node to Functionality cluster\n",
        "repoModel.addNodeConnectionFromNodeToAllNodesOfCluster(\"Functionality\", \"Functionality Cluster\")\n",
        "repoModel.addNodeConnectionFromAllNodesToAllNodesOfCluster(\"Functionality Cluster\", \"Alternatives Cluster\")\n",
        "\n",
        "# Create all connections from the Security node to Security cluster\n",
        "repoModel.addNodeConnectionFromNodeToAllNodesOfCluster(\"Security\", \"Security Cluster\")\n",
        "repoModel.addNodeConnectionFromAllNodesToAllNodesOfCluster(\"Security Cluster\", \"Alternatives Cluster\")\n",
        "\n",
        "# Create all connections from the Support and Maintenance node to Support and Maintenance cluster\n",
        "repoModel.addNodeConnectionFromNodeToAllNodesOfCluster(\"Support and Maintenance\", \"Support and Maintenance Cluster\")\n",
        "repoModel.addNodeConnectionFromAllNodesToAllNodesOfCluster(\"Support and Maintenance Cluster\", \"Alternatives Cluster\")\n",
        "\n",
        "# Create all connections from the Implementation Effort node to Implementation Effort cluster\n",
        "repoModel.addNodeConnectionFromNodeToAllNodesOfCluster(\"Implementation Effort\", \"Implementation Effort Cluster\")\n",
        "repoModel.addNodeConnectionFromAllNodesToAllNodesOfCluster(\"Implementation Effort Cluster\", \"Alternatives Cluster\")\n",
        "\n",
        "# Create all connections from the Recurring Cost node to Recurring Cost cluster\n",
        "repoModel.addNodeConnectionFromNodeToAllNodesOfCluster(\"Recurring Cost\", \"Recurring Cost Cluster\")\n",
        "repoModel.addNodeConnectionFromAllNodesToAllNodesOfCluster(\"Recurring Cost Cluster\", \"Alternatives Cluster\")"
      ]
    },
    {
      "cell_type": "code",
      "execution_count": 10,
      "metadata": {},
      "outputs": [
        {
          "name": "stdout",
          "output_type": "stream",
          "text": [
            "Cluster Connections:\n",
            "Connection(s) from cluster Goal CID:  0 order: 0\n",
            " to: Criteria CID:  1 order: 1\n",
            "Connection(s) from cluster Criteria CID:  1 order: 1\n",
            " to: Functionality Cluster CID:  2 order: 2\n",
            " to: Security Cluster CID:  3 order: 3\n",
            " to: Support and Maintenance Cluster CID:  4 order: 4\n",
            " to: Implementation Effort Cluster CID:  5 order: 5\n",
            " to: Recurring Cost Cluster CID:  6 order: 6\n",
            "Connection(s) from cluster Functionality Cluster CID:  2 order: 2\n",
            " to: Alternatives Cluster CID:  7 order: 7\n",
            "Connection(s) from cluster Security Cluster CID:  3 order: 3\n",
            " to: Alternatives Cluster CID:  7 order: 7\n",
            "Connection(s) from cluster Support and Maintenance Cluster CID:  4 order: 4\n",
            " to: Alternatives Cluster CID:  7 order: 7\n",
            "Connection(s) from cluster Implementation Effort Cluster CID:  5 order: 5\n",
            " to: Alternatives Cluster CID:  7 order: 7\n",
            "Connection(s) from cluster Recurring Cost Cluster CID:  6 order: 6\n",
            " to: Alternatives Cluster CID:  7 order: 7\n",
            "No connections from Alternatives Cluster\n"
          ]
        }
      ],
      "source": [
        "# Show all cluster connections\n",
        "print(\"Cluster Connections:\")\n",
        "repoModel.showAllClusterConnections()"
      ]
    },
    {
      "cell_type": "markdown",
      "metadata": {},
      "source": [
        "### 5. Review all connections."
      ]
    },
    {
      "cell_type": "code",
      "execution_count": 11,
      "metadata": {},
      "outputs": [
        {
          "name": "stdout",
          "output_type": "stream",
          "text": [
            "Node Connections:\n",
            "Connections from node Goal NID: 0 order: 1\n",
            " to: Functionality NID: 1 order: 2\n",
            " to: Security NID: 2 order: 3\n",
            " to: Support and Maintenance NID: 3 order: 4\n",
            " to: Implementation Effort NID: 4 order: 5\n",
            " to: Recurring Cost NID: 5 order: 6\n",
            "Connections from node Functionality NID: 1 order: 2\n",
            " to: User Roles NID: 6 order: 7\n",
            " to: Build Functionality NID: 7 order: 8\n",
            " to: Development Workflow Solution NID: 8 order: 9\n",
            " to: Familiarity NID: 9 order: 10\n",
            "Connections from node Security NID: 2 order: 3\n",
            " to: Security Updates NID: 10 order: 11\n",
            " to: Server Location NID: 11 order: 12\n",
            " to: Customer Data Management NID: 12 order: 13\n",
            "Connections from node Support and Maintenance NID: 3 order: 4\n",
            " to: Vendor Support Quality NID: 13 order: 14\n",
            " to: Update Responsibility NID: 14 order: 15\n",
            " to: Internal Support and Maintenance NID: 15 order: 16\n",
            "Connections from node Implementation Effort NID: 4 order: 5\n",
            " to: Internal Implementation Effort NID: 16 order: 17\n",
            " to: Vendor Implementation Effort NID: 17 order: 18\n",
            "Connections from node Recurring Cost NID: 5 order: 6\n",
            " to: Yearly Subscription Cost NID: 18 order: 19\n",
            " to: Internal Yearly Support Cost NID: 19 order: 20\n",
            "Connections from node User Roles NID: 6 order: 7\n",
            " to: GitLab On-Prem NID: 20 order: 21\n",
            " to: GitLab Cloud NID: 21 order: 22\n",
            " to: GitHub Cloud NID: 22 order: 23\n",
            "Connections from node Build Functionality NID: 7 order: 8\n",
            " to: GitLab On-Prem NID: 20 order: 21\n",
            " to: GitLab Cloud NID: 21 order: 22\n",
            " to: GitHub Cloud NID: 22 order: 23\n",
            "Connections from node Development Workflow Solution NID: 8 order: 9\n",
            " to: GitLab On-Prem NID: 20 order: 21\n",
            " to: GitLab Cloud NID: 21 order: 22\n",
            " to: GitHub Cloud NID: 22 order: 23\n",
            "Connections from node Familiarity NID: 9 order: 10\n",
            " to: GitLab On-Prem NID: 20 order: 21\n",
            " to: GitLab Cloud NID: 21 order: 22\n",
            " to: GitHub Cloud NID: 22 order: 23\n",
            "Connections from node Security Updates NID: 10 order: 11\n",
            " to: GitLab On-Prem NID: 20 order: 21\n",
            " to: GitLab Cloud NID: 21 order: 22\n",
            " to: GitHub Cloud NID: 22 order: 23\n",
            "Connections from node Server Location NID: 11 order: 12\n",
            " to: GitLab On-Prem NID: 20 order: 21\n",
            " to: GitLab Cloud NID: 21 order: 22\n",
            " to: GitHub Cloud NID: 22 order: 23\n",
            "Connections from node Customer Data Management NID: 12 order: 13\n",
            " to: GitLab On-Prem NID: 20 order: 21\n",
            " to: GitLab Cloud NID: 21 order: 22\n",
            " to: GitHub Cloud NID: 22 order: 23\n",
            "Connections from node Vendor Support Quality NID: 13 order: 14\n",
            " to: GitLab On-Prem NID: 20 order: 21\n",
            " to: GitLab Cloud NID: 21 order: 22\n",
            " to: GitHub Cloud NID: 22 order: 23\n",
            "Connections from node Update Responsibility NID: 14 order: 15\n",
            " to: GitLab On-Prem NID: 20 order: 21\n",
            " to: GitLab Cloud NID: 21 order: 22\n",
            " to: GitHub Cloud NID: 22 order: 23\n",
            "Connections from node Internal Support and Maintenance NID: 15 order: 16\n",
            " to: GitLab On-Prem NID: 20 order: 21\n",
            " to: GitLab Cloud NID: 21 order: 22\n",
            " to: GitHub Cloud NID: 22 order: 23\n",
            "Connections from node Internal Implementation Effort NID: 16 order: 17\n",
            " to: GitLab On-Prem NID: 20 order: 21\n",
            " to: GitLab Cloud NID: 21 order: 22\n",
            " to: GitHub Cloud NID: 22 order: 23\n",
            "Connections from node Vendor Implementation Effort NID: 17 order: 18\n",
            " to: GitLab On-Prem NID: 20 order: 21\n",
            " to: GitLab Cloud NID: 21 order: 22\n",
            " to: GitHub Cloud NID: 22 order: 23\n",
            "Connections from node Yearly Subscription Cost NID: 18 order: 19\n",
            " to: GitLab On-Prem NID: 20 order: 21\n",
            " to: GitLab Cloud NID: 21 order: 22\n",
            " to: GitHub Cloud NID: 22 order: 23\n",
            "Connections from node Internal Yearly Support Cost NID: 19 order: 20\n",
            " to: GitLab On-Prem NID: 20 order: 21\n",
            " to: GitLab Cloud NID: 21 order: 22\n",
            " to: GitHub Cloud NID: 22 order: 23\n",
            "No connections from GitLab On-Prem\n",
            "No connections from GitLab Cloud\n",
            "No connections from GitHub Cloud\n"
          ]
        }
      ],
      "source": [
        "# Show all connections\n",
        "print(\"Node Connections:\")\n",
        "repoModel.showAllNodeConnections()"
      ]
    },
    {
      "cell_type": "markdown",
      "metadata": {},
      "source": [
        "### 6. Generate and export Excel file."
      ]
    },
    {
      "cell_type": "code",
      "execution_count": 12,
      "metadata": {},
      "outputs": [],
      "source": [
        "#cdf_inp.export4ExcelQuestFull(repoModel, 'repoModel.xlsx')"
      ]
    },
    {
      "cell_type": "markdown",
      "metadata": {},
      "source": [
        "### 7. Import Excel file with preferences."
      ]
    },
    {
      "cell_type": "code",
      "execution_count": 13,
      "metadata": {},
      "outputs": [
        {
          "name": "stdout",
          "output_type": "stream",
          "text": [
            "File Len= 139\n",
            "row: 0\n",
            "0 In cluster: Criteria\n",
            "[[1.     0.2    3.     5.     6.    ]\n",
            " [5.     1.     4.     6.     8.    ]\n",
            " [0.3333 0.25   1.     3.     2.    ]\n",
            " [0.2    0.1667 0.3333 1.     0.3333]\n",
            " [0.1667 0.125  0.5    3.     1.    ]]\n",
            "8 with respect to: Functionality\n",
            "9 In cluster: Functionality Cluster\n",
            "[[1.     0.3333 5.     3.    ]\n",
            " [3.     1.     4.     7.    ]\n",
            " [0.2    0.25   1.     0.1667]\n",
            " [0.3333 0.1429 6.     1.    ]]\n",
            "16 with respect to: Security\n",
            "17 In cluster: Security Cluster\n",
            "[[1.     4.     3.    ]\n",
            " [0.25   1.     0.5   ]\n",
            " [0.3333 2.     1.    ]]\n",
            "23 with respect to: Support and Maintenance\n",
            "24 In cluster: Support and Maintenance Cluster\n",
            "[[1.     4.     6.    ]\n",
            " [0.25   1.     5.    ]\n",
            " [0.1667 0.2    1.    ]]\n",
            "30 with respect to: Implementation Effort\n",
            "31 In cluster: Implementation Effort Cluster\n",
            "[[1.   4.  ]\n",
            " [0.25 1.  ]]\n",
            "36 with respect to: Recurring Cost\n",
            "37 In cluster: Recurring Cost Cluster\n",
            "[[1.  2. ]\n",
            " [0.5 1. ]]\n",
            "42 with respect to: User Roles\n",
            "43 In cluster: Alternatives Cluster\n",
            "[[1. 1. 1.]\n",
            " [1. 1. 1.]\n",
            " [1. 1. 1.]]\n",
            "49 with respect to: Build Functionality\n",
            "50 In cluster: Alternatives Cluster\n",
            "[[1.    1.    8.   ]\n",
            " [1.    1.    8.   ]\n",
            " [0.125 0.125 1.   ]]\n",
            "56 with respect to: Development Workflow Solution\n",
            "57 In cluster: Alternatives Cluster\n",
            "[[1.     0.5625 1.    ]\n",
            " [1.7778 1.     1.7778]\n",
            " [1.     0.5625 1.    ]]\n",
            "63 with respect to: Familiarity\n",
            "64 In cluster: Alternatives Cluster\n",
            "[[1.     1.     6.6   ]\n",
            " [1.     1.     6.6   ]\n",
            " [0.1515 0.1515 1.    ]]\n",
            "70 with respect to: Security Updates\n",
            "71 In cluster: Alternatives Cluster\n",
            "[[1. 1. 1.]\n",
            " [1. 1. 1.]\n",
            " [1. 1. 1.]]\n",
            "77 with respect to: Server Location\n",
            "78 In cluster: Alternatives Cluster\n",
            "[[1. 1. 1.]\n",
            " [1. 1. 1.]\n",
            " [1. 1. 1.]]\n",
            "84 with respect to: Customer Data Management\n",
            "85 In cluster: Alternatives Cluster\n",
            "[[1.     0.3487 0.3487]\n",
            " [2.8681 1.     1.    ]\n",
            " [2.8681 1.     1.    ]]\n",
            "91 with respect to: Vendor Support Quality\n",
            "92 In cluster: Alternatives Cluster\n",
            "[[1.     0.369  0.5741]\n",
            " [2.7097 1.     1.5556]\n",
            " [1.7419 0.6429 1.    ]]\n",
            "98 with respect to: Update Responsibility\n",
            "99 In cluster: Alternatives Cluster\n",
            "[[1.     7.     7.    ]\n",
            " [0.1429 1.     1.    ]\n",
            " [0.1429 1.     1.    ]]\n",
            "105 with respect to: Internal Support and Maintenance\n",
            "106 In cluster: Alternatives Cluster\n",
            "[[1.    0.123 0.123]\n",
            " [8.129 1.    1.   ]\n",
            " [8.129 1.    1.   ]]\n",
            "112 with respect to: Internal Implementation Effort\n",
            "113 In cluster: Alternatives Cluster\n",
            "[[1.     0.1536 0.2147]\n",
            " [6.5116 1.     1.3981]\n",
            " [4.6576 0.7153 1.    ]]\n",
            "119 with respect to: Vendor Implementation Effort\n",
            "120 In cluster: Alternatives Cluster\n",
            "[[1.    0.125 1.   ]\n",
            " [8.    1.    8.   ]\n",
            " [1.    0.125 1.   ]]\n",
            "126 with respect to: Yearly Subscription Cost\n",
            "127 In cluster: Alternatives Cluster\n",
            "[[1. 1. 1.]\n",
            " [1. 1. 1.]\n",
            " [1. 1. 1.]]\n",
            "133 with respect to: Internal Yearly Support Cost\n",
            "134 In cluster: Alternatives Cluster\n",
            "[[1.     0.382  0.382 ]\n",
            " [2.6176 1.     1.    ]\n",
            " [2.6176 1.     1.    ]]\n"
          ]
        }
      ],
      "source": [
        "cdf_inp.importFromExcel(repoModel,'repoModel.xlsx',0)"
      ]
    },
    {
      "cell_type": "code",
      "execution_count": 14,
      "metadata": {},
      "outputs": [
        {
          "name": "stdout",
          "output_type": "stream",
          "text": [
            "[array([[1.    , 0.2   , 3.    , 5.    , 6.    ],\n",
            "       [5.    , 1.    , 4.    , 6.    , 8.    ],\n",
            "       [0.3333, 0.25  , 1.    , 3.    , 2.    ],\n",
            "       [0.2   , 0.1667, 0.3333, 1.    , 0.3333],\n",
            "       [0.1667, 0.125 , 0.5   , 3.    , 1.    ]]), array([[1.    , 0.3333, 5.    , 3.    ],\n",
            "       [3.    , 1.    , 4.    , 7.    ],\n",
            "       [0.2   , 0.25  , 1.    , 0.1667],\n",
            "       [0.3333, 0.1429, 6.    , 1.    ]]), array([[1.    , 4.    , 3.    ],\n",
            "       [0.25  , 1.    , 0.5   ],\n",
            "       [0.3333, 2.    , 1.    ]]), array([[1.    , 4.    , 6.    ],\n",
            "       [0.25  , 1.    , 5.    ],\n",
            "       [0.1667, 0.2   , 1.    ]]), array([[1.  , 4.  ],\n",
            "       [0.25, 1.  ]]), array([[1. , 2. ],\n",
            "       [0.5, 1. ]]), array([[1., 1., 1.],\n",
            "       [1., 1., 1.],\n",
            "       [1., 1., 1.]]), array([[1.   , 1.   , 8.   ],\n",
            "       [1.   , 1.   , 8.   ],\n",
            "       [0.125, 0.125, 1.   ]]), array([[1.    , 0.5625, 1.    ],\n",
            "       [1.7778, 1.    , 1.7778],\n",
            "       [1.    , 0.5625, 1.    ]]), array([[1.    , 1.    , 6.6   ],\n",
            "       [1.    , 1.    , 6.6   ],\n",
            "       [0.1515, 0.1515, 1.    ]]), array([[1., 1., 1.],\n",
            "       [1., 1., 1.],\n",
            "       [1., 1., 1.]]), array([[1., 1., 1.],\n",
            "       [1., 1., 1.],\n",
            "       [1., 1., 1.]]), array([[1.    , 0.3487, 0.3487],\n",
            "       [2.8681, 1.    , 1.    ],\n",
            "       [2.8681, 1.    , 1.    ]]), array([[1.    , 0.369 , 0.5741],\n",
            "       [2.7097, 1.    , 1.5556],\n",
            "       [1.7419, 0.6429, 1.    ]]), array([[1.    , 7.    , 7.    ],\n",
            "       [0.1429, 1.    , 1.    ],\n",
            "       [0.1429, 1.    , 1.    ]]), array([[1.   , 0.123, 0.123],\n",
            "       [8.129, 1.   , 1.   ],\n",
            "       [8.129, 1.   , 1.   ]]), array([[1.    , 0.1536, 0.2147],\n",
            "       [6.5116, 1.    , 1.3981],\n",
            "       [4.6576, 0.7153, 1.    ]]), array([[1.   , 0.125, 1.   ],\n",
            "       [8.   , 1.   , 8.   ],\n",
            "       [1.   , 0.125, 1.   ]]), array([[1., 1., 1.],\n",
            "       [1., 1., 1.],\n",
            "       [1., 1., 1.]]), array([[1.    , 0.382 , 0.382 ],\n",
            "       [2.6176, 1.    , 1.    ],\n",
            "       [2.6176, 1.    , 1.    ]])]\n"
          ]
        }
      ],
      "source": [
        "print(repoModel.all_pc_matrices)"
      ]
    },
    {
      "cell_type": "markdown",
      "metadata": {},
      "source": [
        "### 8. Calculate priority vector."
      ]
    },
    {
      "cell_type": "code",
      "execution_count": 15,
      "metadata": {},
      "outputs": [
        {
          "data": {
            "text/plain": [
              "array([0.2372, 0.5441, 0.1082, 0.0442, 0.0663])"
            ]
          },
          "execution_count": 15,
          "metadata": {},
          "output_type": "execute_result"
        }
      ],
      "source": [
        "cdf_calc.priorityVector(repoModel.all_pc_matrices[0])"
      ]
    },
    {
      "cell_type": "markdown",
      "metadata": {},
      "source": [
        "### 9. Calculate unweighted super matrix."
      ]
    },
    {
      "cell_type": "code",
      "execution_count": 16,
      "metadata": {},
      "outputs": [
        {
          "name": "stdout",
          "output_type": "stream",
          "text": [
            "[[0.     0.     0.     0.     0.     0.     0.     0.     0.     0.\n",
            "  0.     0.     0.     0.     0.     0.     0.     0.     0.     0.\n",
            "  0.     0.     0.    ]\n",
            " [0.2372 0.     0.     0.     0.     0.     0.     0.     0.     0.\n",
            "  0.     0.     0.     0.     0.     0.     0.     0.     0.     0.\n",
            "  0.     0.     0.    ]\n",
            " [0.5441 0.     0.     0.     0.     0.     0.     0.     0.     0.\n",
            "  0.     0.     0.     0.     0.     0.     0.     0.     0.     0.\n",
            "  0.     0.     0.    ]\n",
            " [0.1082 0.     0.     0.     0.     0.     0.     0.     0.     0.\n",
            "  0.     0.     0.     0.     0.     0.     0.     0.     0.     0.\n",
            "  0.     0.     0.    ]\n",
            " [0.0442 0.     0.     0.     0.     0.     0.     0.     0.     0.\n",
            "  0.     0.     0.     0.     0.     0.     0.     0.     0.     0.\n",
            "  0.     0.     0.    ]\n",
            " [0.0663 0.     0.     0.     0.     0.     0.     0.     0.     0.\n",
            "  0.     0.     0.     0.     0.     0.     0.     0.     0.     0.\n",
            "  0.     0.     0.    ]\n",
            " [0.     0.2502 0.     0.     0.     0.     0.     0.     0.     0.\n",
            "  0.     0.     0.     0.     0.     0.     0.     0.     0.     0.\n",
            "  0.     0.     0.    ]\n",
            " [0.     0.5491 0.     0.     0.     0.     0.     0.     0.     0.\n",
            "  0.     0.     0.     0.     0.     0.     0.     0.     0.     0.\n",
            "  0.     0.     0.    ]\n",
            " [0.     0.0585 0.     0.     0.     0.     0.     0.     0.     0.\n",
            "  0.     0.     0.     0.     0.     0.     0.     0.     0.     0.\n",
            "  0.     0.     0.    ]\n",
            " [0.     0.1422 0.     0.     0.     0.     0.     0.     0.     0.\n",
            "  0.     0.     0.     0.     0.     0.     0.     0.     0.     0.\n",
            "  0.     0.     0.    ]\n",
            " [0.     0.     0.625  0.     0.     0.     0.     0.     0.     0.\n",
            "  0.     0.     0.     0.     0.     0.     0.     0.     0.     0.\n",
            "  0.     0.     0.    ]\n",
            " [0.     0.     0.1365 0.     0.     0.     0.     0.     0.     0.\n",
            "  0.     0.     0.     0.     0.     0.     0.     0.     0.     0.\n",
            "  0.     0.     0.    ]\n",
            " [0.     0.     0.2385 0.     0.     0.     0.     0.     0.     0.\n",
            "  0.     0.     0.     0.     0.     0.     0.     0.     0.     0.\n",
            "  0.     0.     0.    ]\n",
            " [0.     0.     0.     0.6734 0.     0.     0.     0.     0.     0.\n",
            "  0.     0.     0.     0.     0.     0.     0.     0.     0.     0.\n",
            "  0.     0.     0.    ]\n",
            " [0.     0.     0.     0.2515 0.     0.     0.     0.     0.     0.\n",
            "  0.     0.     0.     0.     0.     0.     0.     0.     0.     0.\n",
            "  0.     0.     0.    ]\n",
            " [0.     0.     0.     0.0751 0.     0.     0.     0.     0.     0.\n",
            "  0.     0.     0.     0.     0.     0.     0.     0.     0.     0.\n",
            "  0.     0.     0.    ]\n",
            " [0.     0.     0.     0.     0.8    0.     0.     0.     0.     0.\n",
            "  0.     0.     0.     0.     0.     0.     0.     0.     0.     0.\n",
            "  0.     0.     0.    ]\n",
            " [0.     0.     0.     0.     0.2    0.     0.     0.     0.     0.\n",
            "  0.     0.     0.     0.     0.     0.     0.     0.     0.     0.\n",
            "  0.     0.     0.    ]\n",
            " [0.     0.     0.     0.     0.     0.6667 0.     0.     0.     0.\n",
            "  0.     0.     0.     0.     0.     0.     0.     0.     0.     0.\n",
            "  0.     0.     0.    ]\n",
            " [0.     0.     0.     0.     0.     0.3333 0.     0.     0.     0.\n",
            "  0.     0.     0.     0.     0.     0.     0.     0.     0.     0.\n",
            "  0.     0.     0.    ]\n",
            " [0.     0.     0.     0.     0.     0.     0.3333 0.4706 0.2647 0.4648\n",
            "  0.3333 0.3333 0.1485 0.1834 0.7778 0.0579 0.0822 0.1    0.3333 0.1604\n",
            "  0.     0.     0.    ]\n",
            " [0.     0.     0.     0.     0.     0.     0.3333 0.4706 0.4706 0.4648\n",
            "  0.3333 0.3333 0.4258 0.497  0.1111 0.471  0.5351 0.8    0.3333 0.4198\n",
            "  0.     0.     0.    ]\n",
            " [0.     0.     0.     0.     0.     0.     0.3333 0.0588 0.2647 0.0704\n",
            "  0.3333 0.3333 0.4258 0.3195 0.1111 0.471  0.3827 0.1    0.3333 0.4198\n",
            "  0.     0.     0.    ]]\n",
            "[[0.     0.     0.     0.     0.     0.     0.     0.     0.     0.\n",
            "  0.     0.     0.     0.     0.     0.     0.     0.     0.     0.\n",
            "  0.     0.     0.    ]\n",
            " [0.2372 0.     0.     0.     0.     0.     0.     0.     0.     0.\n",
            "  0.     0.     0.     0.     0.     0.     0.     0.     0.     0.\n",
            "  0.     0.     0.    ]\n",
            " [0.5441 0.     0.     0.     0.     0.     0.     0.     0.     0.\n",
            "  0.     0.     0.     0.     0.     0.     0.     0.     0.     0.\n",
            "  0.     0.     0.    ]\n",
            " [0.1082 0.     0.     0.     0.     0.     0.     0.     0.     0.\n",
            "  0.     0.     0.     0.     0.     0.     0.     0.     0.     0.\n",
            "  0.     0.     0.    ]\n",
            " [0.0442 0.     0.     0.     0.     0.     0.     0.     0.     0.\n",
            "  0.     0.     0.     0.     0.     0.     0.     0.     0.     0.\n",
            "  0.     0.     0.    ]\n",
            " [0.0663 0.     0.     0.     0.     0.     0.     0.     0.     0.\n",
            "  0.     0.     0.     0.     0.     0.     0.     0.     0.     0.\n",
            "  0.     0.     0.    ]\n",
            " [0.     0.2502 0.     0.     0.     0.     0.     0.     0.     0.\n",
            "  0.     0.     0.     0.     0.     0.     0.     0.     0.     0.\n",
            "  0.     0.     0.    ]\n",
            " [0.     0.5491 0.     0.     0.     0.     0.     0.     0.     0.\n",
            "  0.     0.     0.     0.     0.     0.     0.     0.     0.     0.\n",
            "  0.     0.     0.    ]\n",
            " [0.     0.0585 0.     0.     0.     0.     0.     0.     0.     0.\n",
            "  0.     0.     0.     0.     0.     0.     0.     0.     0.     0.\n",
            "  0.     0.     0.    ]\n",
            " [0.     0.1422 0.     0.     0.     0.     0.     0.     0.     0.\n",
            "  0.     0.     0.     0.     0.     0.     0.     0.     0.     0.\n",
            "  0.     0.     0.    ]\n",
            " [0.     0.     0.625  0.     0.     0.     0.     0.     0.     0.\n",
            "  0.     0.     0.     0.     0.     0.     0.     0.     0.     0.\n",
            "  0.     0.     0.    ]\n",
            " [0.     0.     0.1365 0.     0.     0.     0.     0.     0.     0.\n",
            "  0.     0.     0.     0.     0.     0.     0.     0.     0.     0.\n",
            "  0.     0.     0.    ]\n",
            " [0.     0.     0.2385 0.     0.     0.     0.     0.     0.     0.\n",
            "  0.     0.     0.     0.     0.     0.     0.     0.     0.     0.\n",
            "  0.     0.     0.    ]\n",
            " [0.     0.     0.     0.6734 0.     0.     0.     0.     0.     0.\n",
            "  0.     0.     0.     0.     0.     0.     0.     0.     0.     0.\n",
            "  0.     0.     0.    ]\n",
            " [0.     0.     0.     0.2515 0.     0.     0.     0.     0.     0.\n",
            "  0.     0.     0.     0.     0.     0.     0.     0.     0.     0.\n",
            "  0.     0.     0.    ]\n",
            " [0.     0.     0.     0.0751 0.     0.     0.     0.     0.     0.\n",
            "  0.     0.     0.     0.     0.     0.     0.     0.     0.     0.\n",
            "  0.     0.     0.    ]\n",
            " [0.     0.     0.     0.     0.8    0.     0.     0.     0.     0.\n",
            "  0.     0.     0.     0.     0.     0.     0.     0.     0.     0.\n",
            "  0.     0.     0.    ]\n",
            " [0.     0.     0.     0.     0.2    0.     0.     0.     0.     0.\n",
            "  0.     0.     0.     0.     0.     0.     0.     0.     0.     0.\n",
            "  0.     0.     0.    ]\n",
            " [0.     0.     0.     0.     0.     0.6667 0.     0.     0.     0.\n",
            "  0.     0.     0.     0.     0.     0.     0.     0.     0.     0.\n",
            "  0.     0.     0.    ]\n",
            " [0.     0.     0.     0.     0.     0.3333 0.     0.     0.     0.\n",
            "  0.     0.     0.     0.     0.     0.     0.     0.     0.     0.\n",
            "  0.     0.     0.    ]\n",
            " [0.     0.     0.     0.     0.     0.     0.3333 0.4706 0.2647 0.4648\n",
            "  0.3333 0.3333 0.1485 0.1834 0.7778 0.0579 0.0822 0.1    0.3333 0.1604\n",
            "  0.     0.     0.    ]\n",
            " [0.     0.     0.     0.     0.     0.     0.3333 0.4706 0.4706 0.4648\n",
            "  0.3333 0.3333 0.4258 0.497  0.1111 0.471  0.5351 0.8    0.3333 0.4198\n",
            "  0.     0.     0.    ]\n",
            " [0.     0.     0.     0.     0.     0.     0.3333 0.0588 0.2647 0.0704\n",
            "  0.3333 0.3333 0.4258 0.3195 0.1111 0.471  0.3827 0.1    0.3333 0.4198\n",
            "  0.     0.     0.    ]]\n"
          ]
        }
      ],
      "source": [
        "super = cdf_calc.calcUnweightedSuperMatrix(repoModel)\n",
        "print(super)"
      ]
    },
    {
      "cell_type": "markdown",
      "metadata": {},
      "source": [
        "### 10. Calculate hierarchy (AHP results)."
      ]
    },
    {
      "cell_type": "code",
      "execution_count": 17,
      "metadata": {},
      "outputs": [
        {
          "name": "stdout",
          "output_type": "stream",
          "text": [
            "[[0.     0.     0.     0.     0.     0.     0.     0.     0.     0.\n",
            "  0.     0.     0.     0.     0.     0.     0.     0.     0.     0.\n",
            "  0.     0.     0.    ]\n",
            " [0.0791 0.     0.     0.     0.     0.     0.     0.     0.     0.\n",
            "  0.     0.     0.     0.     0.     0.     0.     0.     0.     0.\n",
            "  0.     0.     0.    ]\n",
            " [0.1814 0.     0.     0.     0.     0.     0.     0.     0.     0.\n",
            "  0.     0.     0.     0.     0.     0.     0.     0.     0.     0.\n",
            "  0.     0.     0.    ]\n",
            " [0.0361 0.     0.     0.     0.     0.     0.     0.     0.     0.\n",
            "  0.     0.     0.     0.     0.     0.     0.     0.     0.     0.\n",
            "  0.     0.     0.    ]\n",
            " [0.0147 0.     0.     0.     0.     0.     0.     0.     0.     0.\n",
            "  0.     0.     0.     0.     0.     0.     0.     0.     0.     0.\n",
            "  0.     0.     0.    ]\n",
            " [0.0221 0.     0.     0.     0.     0.     0.     0.     0.     0.\n",
            "  0.     0.     0.     0.     0.     0.     0.     0.     0.     0.\n",
            "  0.     0.     0.    ]\n",
            " [0.0198 0.1251 0.     0.     0.     0.     0.     0.     0.     0.\n",
            "  0.     0.     0.     0.     0.     0.     0.     0.     0.     0.\n",
            "  0.     0.     0.    ]\n",
            " [0.0434 0.2745 0.     0.     0.     0.     0.     0.     0.     0.\n",
            "  0.     0.     0.     0.     0.     0.     0.     0.     0.     0.\n",
            "  0.     0.     0.    ]\n",
            " [0.0046 0.0293 0.     0.     0.     0.     0.     0.     0.     0.\n",
            "  0.     0.     0.     0.     0.     0.     0.     0.     0.     0.\n",
            "  0.     0.     0.    ]\n",
            " [0.0112 0.0711 0.     0.     0.     0.     0.     0.     0.     0.\n",
            "  0.     0.     0.     0.     0.     0.     0.     0.     0.     0.\n",
            "  0.     0.     0.    ]\n",
            " [0.1133 0.     0.3125 0.     0.     0.     0.     0.     0.     0.\n",
            "  0.     0.     0.     0.     0.     0.     0.     0.     0.     0.\n",
            "  0.     0.     0.    ]\n",
            " [0.0248 0.     0.0682 0.     0.     0.     0.     0.     0.     0.\n",
            "  0.     0.     0.     0.     0.     0.     0.     0.     0.     0.\n",
            "  0.     0.     0.    ]\n",
            " [0.0433 0.     0.1192 0.     0.     0.     0.     0.     0.     0.\n",
            "  0.     0.     0.     0.     0.     0.     0.     0.     0.     0.\n",
            "  0.     0.     0.    ]\n",
            " [0.0243 0.     0.     0.3367 0.     0.     0.     0.     0.     0.\n",
            "  0.     0.     0.     0.     0.     0.     0.     0.     0.     0.\n",
            "  0.     0.     0.    ]\n",
            " [0.0091 0.     0.     0.1257 0.     0.     0.     0.     0.     0.\n",
            "  0.     0.     0.     0.     0.     0.     0.     0.     0.     0.\n",
            "  0.     0.     0.    ]\n",
            " [0.0027 0.     0.     0.0376 0.     0.     0.     0.     0.     0.\n",
            "  0.     0.     0.     0.     0.     0.     0.     0.     0.     0.\n",
            "  0.     0.     0.    ]\n",
            " [0.0118 0.     0.     0.     0.4    0.     0.     0.     0.     0.\n",
            "  0.     0.     0.     0.     0.     0.     0.     0.     0.     0.\n",
            "  0.     0.     0.    ]\n",
            " [0.0029 0.     0.     0.     0.1    0.     0.     0.     0.     0.\n",
            "  0.     0.     0.     0.     0.     0.     0.     0.     0.     0.\n",
            "  0.     0.     0.    ]\n",
            " [0.0147 0.     0.     0.     0.     0.3333 0.     0.     0.     0.\n",
            "  0.     0.     0.     0.     0.     0.     0.     0.     0.     0.\n",
            "  0.     0.     0.    ]\n",
            " [0.0074 0.     0.     0.     0.     0.1667 0.     0.     0.     0.\n",
            "  0.     0.     0.     0.     0.     0.     0.     0.     0.     0.\n",
            "  0.     0.     0.    ]\n",
            " [0.105  0.2117 0.1446 0.1617 0.0429 0.1378 0.3333 0.4706 0.2647 0.4648\n",
            "  0.3333 0.3333 0.1485 0.1834 0.7778 0.0579 0.0822 0.1    0.3333 0.1604\n",
            "  0.     0.     0.    ]\n",
            " [0.1299 0.2177 0.1777 0.199  0.294  0.1811 0.3333 0.4706 0.4706 0.4648\n",
            "  0.3333 0.3333 0.4258 0.497  0.1111 0.471  0.5351 0.8    0.3333 0.4198\n",
            "  0.     0.     0.    ]\n",
            " [0.0985 0.0706 0.1777 0.1392 0.1631 0.1811 0.3333 0.0588 0.2647 0.0704\n",
            "  0.3333 0.3333 0.4258 0.3195 0.1111 0.471  0.3827 0.1    0.3333 0.4198\n",
            "  0.     0.     0.    ]]\n"
          ]
        }
      ],
      "source": [
        "ret = cdf_calc.calcHierarchy(repoModel.supermatrix)\n",
        "print(ret)"
      ]
    },
    {
      "cell_type": "markdown",
      "metadata": {},
      "source": [
        "### 11. Calculate limiting priorities."
      ]
    },
    {
      "cell_type": "code",
      "execution_count": 18,
      "metadata": {},
      "outputs": [
        {
          "name": "stdout",
          "output_type": "stream",
          "text": [
            "[0.     0.0791 0.1814 0.0361 0.0147 0.0221 0.0198 0.0434 0.0046 0.0112\n",
            " 0.1133 0.0248 0.0433 0.0243 0.0091 0.0027 0.0118 0.0029 0.0147 0.0074\n",
            " 0.105  0.1299 0.0985]\n"
          ]
        }
      ],
      "source": [
        "limit=cdf_calc.calcLimitingPriorities(repoModel.supermatrix)"
      ]
    },
    {
      "cell_type": "markdown",
      "metadata": {},
      "source": [
        "### 12. Calculate normalized priorities."
      ]
    },
    {
      "cell_type": "code",
      "execution_count": 19,
      "metadata": {},
      "outputs": [],
      "source": [
        "bycluster = cdf_calc.calcPrioritiesNormalizedByCluster(repoModel.supermatrix, repoModel)"
      ]
    },
    {
      "cell_type": "markdown",
      "metadata": {},
      "source": [
        "### 13. Calculate alternative priorities."
      ]
    },
    {
      "cell_type": "code",
      "execution_count": 20,
      "metadata": {},
      "outputs": [
        {
          "name": "stdout",
          "output_type": "stream",
          "text": [
            "Synthesized results: [0.3149 0.3897 0.2954]\n"
          ]
        },
        {
          "data": {
            "text/plain": [
              "array([0.3149, 0.3897, 0.2954])"
            ]
          },
          "execution_count": 20,
          "metadata": {},
          "output_type": "execute_result"
        }
      ],
      "source": [
        "cdf_calc.calcPrioritiesOfCluster(repoModel.supermatrix, \"Alternatives Cluster\", repoModel)"
      ]
    },
    {
      "cell_type": "markdown",
      "metadata": {},
      "source": [
        "### 14. Perform sensitivity analysis."
      ]
    },
    {
      "cell_type": "code",
      "execution_count": 21,
      "metadata": {},
      "outputs": [
        {
          "name": "stdout",
          "output_type": "stream",
          "text": [
            "0.0\n",
            "Synthesized results: [0.2811 0.3755 0.3434]\n",
            "0.1\n",
            "Synthesized results: [0.2976 0.3825 0.3199]\n",
            "0.2\n",
            "Synthesized results: [0.3107 0.388  0.3014]\n",
            "0.30000000000000004\n",
            "Synthesized results: [0.3213 0.3924 0.2863]\n",
            "0.4\n",
            "Synthesized results: [0.3301 0.3961 0.2738]\n",
            "0.5\n",
            "Synthesized results: [0.3374 0.3992 0.2633]\n",
            "0.6000000000000001\n",
            "Synthesized results: [0.3438 0.4019 0.2544]\n",
            "0.7000000000000001\n",
            "Synthesized results: [0.3492 0.4042 0.2466]\n",
            "0.8\n",
            "Synthesized results: [0.3539 0.4062 0.2399]\n",
            "0.9\n",
            "Synthesized results: [0.3581 0.4079 0.2339]\n",
            "1.0\n",
            "Synthesized results: [0.3618 0.4095 0.2287]\n"
          ]
        },
        {
          "data": {
            "image/png": "[encoded data removed]",
            "text/plain": [
              "<Figure size 640x480 with 1 Axes>"
            ]
          },
          "metadata": {},
          "output_type": "display_data"
        },
        {
          "name": "stdout",
          "output_type": "stream",
          "text": [
            "0.0\n",
            "Synthesized results: [0.3454 0.4307 0.2239]\n",
            "0.1\n",
            "Synthesized results: [0.3353 0.4172 0.2475]\n",
            "0.2\n",
            "Synthesized results: [0.3283 0.4077 0.264 ]\n",
            "0.30000000000000004\n",
            "Synthesized results: [0.3231 0.4008 0.2761]\n",
            "0.4\n",
            "Synthesized results: [0.3192 0.3955 0.2853]\n",
            "0.5\n",
            "Synthesized results: [0.316  0.3913 0.2927]\n",
            "0.6000000000000001\n",
            "Synthesized results: [0.3135 0.3879 0.2986]\n",
            "0.7000000000000001\n",
            "Synthesized results: [0.3114 0.3851 0.3035]\n",
            "0.8\n",
            "Synthesized results: [0.3096 0.3827 0.3076]\n",
            "0.9\n",
            "Synthesized results: [0.3081 0.3807 0.3112]\n",
            "1.0\n",
            "Synthesized results: [0.3068 0.379  0.3142]\n"
          ]
        },
        {
          "data": {
            "image/png": "[encoded data removed]",
            "text/plain": [
              "<Figure size 640x480 with 1 Axes>"
            ]
          },
          "metadata": {},
          "output_type": "display_data"
        },
        {
          "name": "stdout",
          "output_type": "stream",
          "text": [
            "0.0\n",
            "Synthesized results: [0.3138 0.3887 0.2975]\n",
            "0.1\n",
            "Synthesized results: [0.3148 0.3897 0.2956]\n",
            "0.2\n",
            "Synthesized results: [0.3156 0.3904 0.294 ]\n",
            "0.30000000000000004\n",
            "Synthesized results: [0.3162 0.3911 0.2927]\n",
            "0.4\n",
            "Synthesized results: [0.3168 0.3916 0.2916]\n",
            "0.5\n",
            "Synthesized results: [0.3173 0.3921 0.2907]\n",
            "0.6000000000000001\n",
            "Synthesized results: [0.3177 0.3925 0.2898]\n",
            "0.7000000000000001\n",
            "Synthesized results: [0.3181 0.3928 0.2891]\n",
            "0.8\n",
            "Synthesized results: [0.3184 0.3931 0.2885]\n",
            "0.9\n",
            "Synthesized results: [0.3187 0.3934 0.2879]\n",
            "1.0\n",
            "Synthesized results: [0.3189 0.3936 0.2874]\n"
          ]
        },
        {
          "data": {
            "image/png": "[encoded data removed]",
            "text/plain": [
              "<Figure size 640x480 with 1 Axes>"
            ]
          },
          "metadata": {},
          "output_type": "display_data"
        },
        {
          "name": "stdout",
          "output_type": "stream",
          "text": [
            "0.0\n",
            "Synthesized results: [0.3255 0.3805 0.294 ]\n",
            "0.1\n",
            "Synthesized results: [0.3028 0.4002 0.297 ]\n",
            "0.2\n",
            "Synthesized results: [0.284  0.4165 0.2996]\n",
            "0.30000000000000004\n",
            "Synthesized results: [0.2682 0.4301 0.3017]\n",
            "0.4\n",
            "Synthesized results: [0.2547 0.4418 0.3035]\n",
            "0.5\n",
            "Synthesized results: [0.2431 0.4518 0.3051]\n",
            "0.6000000000000001\n",
            "Synthesized results: [0.233  0.4606 0.3064]\n",
            "0.7000000000000001\n",
            "Synthesized results: [0.2241 0.4683 0.3076]\n",
            "0.8\n",
            "Synthesized results: [0.2162 0.4751 0.3087]\n",
            "0.9\n",
            "Synthesized results: [0.2092 0.4812 0.3096]\n",
            "1.0\n",
            "Synthesized results: [0.2029 0.4867 0.3105]\n"
          ]
        },
        {
          "data": {
            "image/png": "[encoded data removed]",
            "text/plain": [
              "<Figure size 640x480 with 1 Axes>"
            ]
          },
          "metadata": {},
          "output_type": "display_data"
        },
        {
          "name": "stdout",
          "output_type": "stream",
          "text": [
            "0.0\n",
            "Synthesized results: [0.3176 0.3917 0.2907]\n",
            "0.1\n",
            "Synthesized results: [0.3136 0.3888 0.2976]\n",
            "0.2\n",
            "Synthesized results: [0.3102 0.3865 0.3033]\n",
            "0.30000000000000004\n",
            "Synthesized results: [0.3074 0.3845 0.3081]\n",
            "0.4\n",
            "Synthesized results: [0.3051 0.3828 0.3121]\n",
            "0.5\n",
            "Synthesized results: [0.303  0.3814 0.3156]\n",
            "0.6000000000000001\n",
            "Synthesized results: [0.3012 0.3801 0.3186]\n",
            "0.7000000000000001\n",
            "Synthesized results: [0.2997 0.379  0.3213]\n",
            "0.8\n",
            "Synthesized results: [0.2983 0.3781 0.3237]\n",
            "0.9\n",
            "Synthesized results: [0.297  0.3772 0.3258]\n",
            "1.0\n",
            "Synthesized results: [0.2959 0.3764 0.3276]\n"
          ]
        },
        {
          "data": {
            "image/png": "[encoded data removed]",
            "text/plain": [
              "<Figure size 640x480 with 1 Axes>"
            ]
          },
          "metadata": {},
          "output_type": "display_data"
        }
      ],
      "source": [
        "# Functionality\n",
        "cdf_calc.sensitivityCellSupermatrixPlot(super, 1, \"Alternatives Cluster\", repoModel)\n",
        "# Security\n",
        "cdf_calc.sensitivityCellSupermatrixPlot(super, 2, \"Alternatives Cluster\", repoModel)\n",
        "# Support and Maintenance\n",
        "cdf_calc.sensitivityCellSupermatrixPlot(super, 3, \"Alternatives Cluster\", repoModel)\n",
        "# Implementation Effort\n",
        "cdf_calc.sensitivityCellSupermatrixPlot(super, 4, \"Alternatives Cluster\", repoModel)\n",
        "# Recurring Cost\n",
        "cdf_calc.sensitivityCellSupermatrixPlot(super, 5, \"Alternatives Cluster\", repoModel)"
      ]
    },
    {
      "cell_type": "markdown",
      "metadata": {},
      "source": [
        "### 15. Export results summary"
      ]
    },
    {
      "cell_type": "code",
      "execution_count": 23,
      "metadata": {},
      "outputs": [
        {
          "name": "stdout",
          "output_type": "stream",
          "text": [
            "[[0.     0.     0.     0.     0.     0.     0.     0.     0.     0.\n",
            "  0.     0.     0.     0.     0.     0.     0.     0.     0.     0.\n",
            "  0.     0.     0.    ]\n",
            " [0.2372 0.     0.     0.     0.     0.     0.     0.     0.     0.\n",
            "  0.     0.     0.     0.     0.     0.     0.     0.     0.     0.\n",
            "  0.     0.     0.    ]\n",
            " [0.5441 0.     0.     0.     0.     0.     0.     0.     0.     0.\n",
            "  0.     0.     0.     0.     0.     0.     0.     0.     0.     0.\n",
            "  0.     0.     0.    ]\n",
            " [0.1082 0.     0.     0.     0.     0.     0.     0.     0.     0.\n",
            "  0.     0.     0.     0.     0.     0.     0.     0.     0.     0.\n",
            "  0.     0.     0.    ]\n",
            " [0.0442 0.     0.     0.     0.     0.     0.     0.     0.     0.\n",
            "  0.     0.     0.     0.     0.     0.     0.     0.     0.     0.\n",
            "  0.     0.     0.    ]\n",
            " [0.0663 0.     0.     0.     0.     0.     0.     0.     0.     0.\n",
            "  0.     0.     0.     0.     0.     0.     0.     0.     0.     0.\n",
            "  0.     0.     0.    ]\n",
            " [0.     0.2502 0.     0.     0.     0.     0.     0.     0.     0.\n",
            "  0.     0.     0.     0.     0.     0.     0.     0.     0.     0.\n",
            "  0.     0.     0.    ]\n",
            " [0.     0.5491 0.     0.     0.     0.     0.     0.     0.     0.\n",
            "  0.     0.     0.     0.     0.     0.     0.     0.     0.     0.\n",
            "  0.     0.     0.    ]\n",
            " [0.     0.0585 0.     0.     0.     0.     0.     0.     0.     0.\n",
            "  0.     0.     0.     0.     0.     0.     0.     0.     0.     0.\n",
            "  0.     0.     0.    ]\n",
            " [0.     0.1422 0.     0.     0.     0.     0.     0.     0.     0.\n",
            "  0.     0.     0.     0.     0.     0.     0.     0.     0.     0.\n",
            "  0.     0.     0.    ]\n",
            " [0.     0.     0.625  0.     0.     0.     0.     0.     0.     0.\n",
            "  0.     0.     0.     0.     0.     0.     0.     0.     0.     0.\n",
            "  0.     0.     0.    ]\n",
            " [0.     0.     0.1365 0.     0.     0.     0.     0.     0.     0.\n",
            "  0.     0.     0.     0.     0.     0.     0.     0.     0.     0.\n",
            "  0.     0.     0.    ]\n",
            " [0.     0.     0.2385 0.     0.     0.     0.     0.     0.     0.\n",
            "  0.     0.     0.     0.     0.     0.     0.     0.     0.     0.\n",
            "  0.     0.     0.    ]\n",
            " [0.     0.     0.     0.6734 0.     0.     0.     0.     0.     0.\n",
            "  0.     0.     0.     0.     0.     0.     0.     0.     0.     0.\n",
            "  0.     0.     0.    ]\n",
            " [0.     0.     0.     0.2515 0.     0.     0.     0.     0.     0.\n",
            "  0.     0.     0.     0.     0.     0.     0.     0.     0.     0.\n",
            "  0.     0.     0.    ]\n",
            " [0.     0.     0.     0.0751 0.     0.     0.     0.     0.     0.\n",
            "  0.     0.     0.     0.     0.     0.     0.     0.     0.     0.\n",
            "  0.     0.     0.    ]\n",
            " [0.     0.     0.     0.     0.8    0.     0.     0.     0.     0.\n",
            "  0.     0.     0.     0.     0.     0.     0.     0.     0.     0.\n",
            "  0.     0.     0.    ]\n",
            " [0.     0.     0.     0.     0.2    0.     0.     0.     0.     0.\n",
            "  0.     0.     0.     0.     0.     0.     0.     0.     0.     0.\n",
            "  0.     0.     0.    ]\n",
            " [0.     0.     0.     0.     0.     0.6667 0.     0.     0.     0.\n",
            "  0.     0.     0.     0.     0.     0.     0.     0.     0.     0.\n",
            "  0.     0.     0.    ]\n",
            " [0.     0.     0.     0.     0.     0.3333 0.     0.     0.     0.\n",
            "  0.     0.     0.     0.     0.     0.     0.     0.     0.     0.\n",
            "  0.     0.     0.    ]\n",
            " [0.     0.     0.     0.     0.     0.     0.3333 0.4706 0.2647 0.4648\n",
            "  0.3333 0.3333 0.1485 0.1834 0.7778 0.0579 0.0822 0.1    0.3333 0.1604\n",
            "  0.     0.     0.    ]\n",
            " [0.     0.     0.     0.     0.     0.     0.3333 0.4706 0.4706 0.4648\n",
            "  0.3333 0.3333 0.4258 0.497  0.1111 0.471  0.5351 0.8    0.3333 0.4198\n",
            "  0.     0.     0.    ]\n",
            " [0.     0.     0.     0.     0.     0.     0.3333 0.0588 0.2647 0.0704\n",
            "  0.3333 0.3333 0.4258 0.3195 0.1111 0.471  0.3827 0.1    0.3333 0.4198\n",
            "  0.     0.     0.    ]]\n",
            "[0.     0.0791 0.1814 0.0361 0.0147 0.0221 0.0198 0.0434 0.0046 0.0112\n",
            " 0.1133 0.0248 0.0433 0.0243 0.0091 0.0027 0.0118 0.0029 0.0147 0.0074\n",
            " 0.105  0.1299 0.0985]\n",
            "___________________________________________________________\n",
            "Synthesized results: [0.3149 0.3897 0.2954]\n"
          ]
        }
      ],
      "source": [
        "# for i in range(0,12):\n",
        "#     a=cdf_calc.priorityVector(jobOfferModel.all_pc_matrices[i])\n",
        "#     print(a)\n",
        "\n",
        "listTitles=cdf_calc.nodeNameList(repoModel)\n",
        "\n",
        "super=cdf_calc.calcUnweightedSuperMatrix(repoModel)\n",
        "\n",
        "df = pd.DataFrame (super,index=listTitles,columns=listTitles)\n",
        "filepath = \"Supermatrix.xlsx\"\n",
        "df.to_excel(filepath)\n",
        "\n",
        "\n",
        "limit = cdf_calc.calcLimitingPriorities(repoModel.supermatrix)\n",
        "df2 = pd.DataFrame (limit,index=listTitles)\n",
        "filepath = \"LimitPriorities.xlsx\"\n",
        "df2.to_excel(filepath)\n",
        "\n",
        "bycluster = cdf_calc.calcPrioritiesNormalizedByCluster(repoModel.supermatrix, repoModel)\n",
        "df3 = pd.DataFrame (limit,index=listTitles)\n",
        "filepath = \"LimitByCluster.xlsx\"\n",
        "df3.to_excel(filepath)\n",
        "\n",
        "#you can do for each cluster just put the appropriate cluster name\n",
        "print(\"___________________________________________________________\")\n",
        "cl1=cdf_calc.calcPrioritiesOfCluster(super,\"Alternatives Cluster\",repoModel)\n",
        "pd.DataFrame (cl1).to_excel(\"SynthesizedResults1.xlsx\",\"alternatives\")\n"
      ]
    }
  ],
  "metadata": {
    "kernelspec": {
      "display_name": "Python 3",
      "language": "python",
      "name": "python3"
    },
    "language_info": {
      "codemirror_mode": {
        "name": "ipython",
        "version": 3
      },
      "file_extension": ".py",
      "mimetype": "text/x-python",
      "name": "python",
      "nbconvert_exporter": "python",
      "pygments_lexer": "ipython3",
      "version": "3.10.8"
    },
    "vscode": {
      "interpreter": {
        "hash": "c9678cdcc6dd273812e13785a0dfdbefdcc196fae19abda1f84a9aff1ff7f26a"
      }
    }
  },
  "nbformat": 4,
  "nbformat_minor": 4
}
