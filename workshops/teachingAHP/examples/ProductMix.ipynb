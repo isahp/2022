{
 "cells": [
  {
   "cell_type": "code",
   "execution_count": 1,
   "metadata": {},
   "outputs": [
    {
     "data": {
      "text/plain": [
       "'%.4f'"
      ]
     },
     "execution_count": 1,
     "metadata": {},
     "output_type": "execute_result"
    }
   ],
   "source": [
    "# import the required components\n",
    "import pandas as pd\n",
    "import numpy as np\n",
    "\n",
    "# import sys\n",
    "# sys.path.insert(0,'../')\n",
    "\n",
    "import inputs_AHPLib as cdf_inp\n",
    "import structs_AHPLib as cdf_str\n",
    "import calcs_AHPLib as cdf_calc\n",
    "#set here the number of decimals that you want to be displayed\n",
    "%precision 4"
   ]
  },
  {
   "cell_type": "code",
   "execution_count": 2,
   "metadata": {},
   "outputs": [
    {
     "name": "stdout",
     "output_type": "stream",
     "text": [
      "Nodes: []\n",
      " Clusters: []\n",
      " Node Connections: []\n",
      " Cluster Connections: []\n"
     ]
    }
   ],
   "source": [
    "prdMix=cdf_str.Model()\n",
    "print(prdMix)"
   ]
  },
  {
   "cell_type": "code",
   "execution_count": 3,
   "metadata": {},
   "outputs": [],
   "source": [
    "goal_node=cdf_str.Node(\"GoalNode\",1)\n",
    "\n",
    "n1=cdf_str.Node(\"Demand\",2)\n",
    "n2=cdf_str.Node(\"Profit\",3)\n",
    "n3=cdf_str.Node(\"Fit\",4)\n",
    "n4=cdf_str.Node(\"ProcTime\",5)\n",
    "n5=cdf_str.Node(\"Aligment\",6)\n",
    "n6=cdf_str.Node(\"TIS\",7)\n",
    "\n",
    "a1=cdf_str.Node(\"PrdA\",8)\n",
    "a2=cdf_str.Node(\"PrdB\",9)\n",
    "a3=cdf_str.Node(\"PrdC\",10)\n",
    "a4=cdf_str.Node(\"ProdD\",11)"
   ]
  },
  {
   "cell_type": "code",
   "execution_count": 4,
   "metadata": {},
   "outputs": [],
   "source": [
    "cl0=cdf_str.Cluster(\"Goal Cluster\",0)\n",
    "cl1=cdf_str.Cluster(\"Criteria\",0)\n",
    "cl2=cdf_str.Cluster(\"Alternatives\",0)"
   ]
  },
  {
   "cell_type": "code",
   "execution_count": 5,
   "metadata": {},
   "outputs": [],
   "source": [
    "cl1.updateC_DisplayOrder(1)\n",
    "cl2.updateC_DisplayOrder(2)"
   ]
  },
  {
   "cell_type": "code",
   "execution_count": 6,
   "metadata": {},
   "outputs": [],
   "source": [
    "cl0.addNode2Cluster(goal_node)\n",
    "\n",
    "cl1.addNode2Cluster(n1)\n",
    "cl1.addNode2Cluster(n2)\n",
    "cl1.addNode2Cluster(n3)\n",
    "cl1.addNode2Cluster(n4)\n",
    "cl1.addNode2Cluster(n5)\n",
    "cl1.addNode2Cluster(n6)\n",
    "\n",
    "cl2.addNode2Cluster(a1)\n",
    "cl2.addNode2Cluster(a2)\n",
    "cl2.addNode2Cluster(a3)\n",
    "cl2.addNode2Cluster(a4)"
   ]
  },
  {
   "cell_type": "code",
   "execution_count": 7,
   "metadata": {},
   "outputs": [],
   "source": [
    "prdMix.addCluster2Model(cl0)\n",
    "prdMix.addCluster2Model(cl1)\n",
    "prdMix.addCluster2Model(cl2)"
   ]
  },
  {
   "cell_type": "code",
   "execution_count": 8,
   "metadata": {},
   "outputs": [
    {
     "name": "stdout",
     "output_type": "stream",
     "text": [
      "Nodes: [GoalNode NID: 0 order: 1, Demand NID: 1 order: 2, Profit NID: 2 order: 3, Fit NID: 3 order: 4, ProcTime NID: 4 order: 5, Aligment NID: 5 order: 6, TIS NID: 6 order: 7, PrdA NID: 7 order: 8, PrdB NID: 8 order: 9, PrdC NID: 9 order: 10, ProdD NID: 10 order: 11]\n",
      " Clusters: [Goal Cluster CID:  0 order: 0, Criteria CID:  1 order: 1, Alternatives CID:  2 order: 2]\n",
      " Node Connections: []\n",
      " Cluster Connections: []\n"
     ]
    }
   ],
   "source": [
    "print(prdMix)"
   ]
  },
  {
   "cell_type": "code",
   "execution_count": 9,
   "metadata": {},
   "outputs": [
    {
     "name": "stdout",
     "output_type": "stream",
     "text": [
      "node: GoalNode connectedTo: [Demand NID: 1 order: 2]\n",
      "connecting from cluster: 0 to cluster 1\n",
      "node: GoalNode connectedTo: [Demand NID: 1 order: 2, Profit NID: 2 order: 3]\n",
      "node: GoalNode connectedTo: [Demand NID: 1 order: 2, Profit NID: 2 order: 3, Fit NID: 3 order: 4]\n",
      "node: GoalNode connectedTo: [Demand NID: 1 order: 2, Profit NID: 2 order: 3, Fit NID: 3 order: 4, ProcTime NID: 4 order: 5]\n",
      "node: GoalNode connectedTo: [Demand NID: 1 order: 2, Profit NID: 2 order: 3, Fit NID: 3 order: 4, ProcTime NID: 4 order: 5, Aligment NID: 5 order: 6]\n",
      "node: GoalNode connectedTo: [Demand NID: 1 order: 2, Profit NID: 2 order: 3, Fit NID: 3 order: 4, ProcTime NID: 4 order: 5, Aligment NID: 5 order: 6, TIS NID: 6 order: 7]\n",
      "node: Demand connectedTo: [PrdA NID: 7 order: 8]\n",
      "connecting from cluster: 1 to cluster 2\n",
      "node: Demand connectedTo: [PrdA NID: 7 order: 8, PrdB NID: 8 order: 9]\n",
      "node: Demand connectedTo: [PrdA NID: 7 order: 8, PrdB NID: 8 order: 9, PrdC NID: 9 order: 10]\n",
      "node: Demand connectedTo: [PrdA NID: 7 order: 8, PrdB NID: 8 order: 9, PrdC NID: 9 order: 10, ProdD NID: 10 order: 11]\n",
      "node: Profit connectedTo: [PrdA NID: 7 order: 8]\n",
      "node: Profit connectedTo: [PrdA NID: 7 order: 8, PrdB NID: 8 order: 9]\n",
      "node: Profit connectedTo: [PrdA NID: 7 order: 8, PrdB NID: 8 order: 9, PrdC NID: 9 order: 10]\n",
      "node: Profit connectedTo: [PrdA NID: 7 order: 8, PrdB NID: 8 order: 9, PrdC NID: 9 order: 10, ProdD NID: 10 order: 11]\n",
      "node: Fit connectedTo: [PrdA NID: 7 order: 8]\n",
      "node: Fit connectedTo: [PrdA NID: 7 order: 8, PrdB NID: 8 order: 9]\n",
      "node: Fit connectedTo: [PrdA NID: 7 order: 8, PrdB NID: 8 order: 9, PrdC NID: 9 order: 10]\n",
      "node: Fit connectedTo: [PrdA NID: 7 order: 8, PrdB NID: 8 order: 9, PrdC NID: 9 order: 10, ProdD NID: 10 order: 11]\n",
      "node: ProcTime connectedTo: [PrdA NID: 7 order: 8]\n",
      "node: ProcTime connectedTo: [PrdA NID: 7 order: 8, PrdB NID: 8 order: 9]\n",
      "node: ProcTime connectedTo: [PrdA NID: 7 order: 8, PrdB NID: 8 order: 9, PrdC NID: 9 order: 10]\n",
      "node: ProcTime connectedTo: [PrdA NID: 7 order: 8, PrdB NID: 8 order: 9, PrdC NID: 9 order: 10, ProdD NID: 10 order: 11]\n",
      "node: Aligment connectedTo: [PrdA NID: 7 order: 8]\n",
      "node: Aligment connectedTo: [PrdA NID: 7 order: 8, PrdB NID: 8 order: 9]\n",
      "node: Aligment connectedTo: [PrdA NID: 7 order: 8, PrdB NID: 8 order: 9, PrdC NID: 9 order: 10]\n",
      "node: Aligment connectedTo: [PrdA NID: 7 order: 8, PrdB NID: 8 order: 9, PrdC NID: 9 order: 10, ProdD NID: 10 order: 11]\n",
      "node: TIS connectedTo: [PrdA NID: 7 order: 8]\n",
      "node: TIS connectedTo: [PrdA NID: 7 order: 8, PrdB NID: 8 order: 9]\n",
      "node: TIS connectedTo: [PrdA NID: 7 order: 8, PrdB NID: 8 order: 9, PrdC NID: 9 order: 10]\n",
      "node: TIS connectedTo: [PrdA NID: 7 order: 8, PrdB NID: 8 order: 9, PrdC NID: 9 order: 10, ProdD NID: 10 order: 11]\n"
     ]
    }
   ],
   "source": [
    "prdMix.addNodeConnectionFromAllNodesToAllNodesOfCluster(\"Goal Cluster\",\"Criteria\")\n",
    "prdMix.addNodeConnectionFromAllNodesToAllNodesOfCluster(\"Criteria\",\"Alternatives\")\n"
   ]
  },
  {
   "cell_type": "code",
   "execution_count": 10,
   "metadata": {},
   "outputs": [
    {
     "name": "stdout",
     "output_type": "stream",
     "text": [
      "Connection(s) from cluster Goal Cluster CID:  0 order: 0\n",
      " to: Criteria CID:  1 order: 1\n",
      "Connection(s) from cluster Criteria CID:  1 order: 1\n",
      " to: Alternatives CID:  2 order: 2\n",
      "No connections from Alternatives\n"
     ]
    }
   ],
   "source": [
    "prdMix.showAllClusterConnections()"
   ]
  },
  {
   "cell_type": "code",
   "execution_count": 11,
   "metadata": {},
   "outputs": [
    {
     "name": "stdout",
     "output_type": "stream",
     "text": [
      "['With respect to GoalNode, which one is more important: Demand or Profit ? By how much?', 'With respect to GoalNode, which one is more important: Demand or Fit ? By how much?', 'With respect to GoalNode, which one is more important: Demand or ProcTime ? By how much?', 'With respect to GoalNode, which one is more important: Demand or Aligment ? By how much?', 'With respect to GoalNode, which one is more important: Demand or TIS ? By how much?', 'With respect to GoalNode, which one is more important: Profit or Fit ? By how much?', 'With respect to GoalNode, which one is more important: Profit or ProcTime ? By how much?', 'With respect to GoalNode, which one is more important: Profit or Aligment ? By how much?', 'With respect to GoalNode, which one is more important: Profit or TIS ? By how much?', 'With respect to GoalNode, which one is more important: Fit or ProcTime ? By how much?', 'With respect to GoalNode, which one is more important: Fit or Aligment ? By how much?', 'With respect to GoalNode, which one is more important: Fit or TIS ? By how much?', 'With respect to GoalNode, which one is more important: ProcTime or Aligment ? By how much?', 'With respect to GoalNode, which one is more important: ProcTime or TIS ? By how much?', 'With respect to GoalNode, which one is more important: Aligment or TIS ? By how much?']\n",
      ".........\n",
      "['With respect to Demand, which one is more important: PrdA or PrdB ? By how much?', 'With respect to Demand, which one is more important: PrdA or PrdC ? By how much?', 'With respect to Demand, which one is more important: PrdA or ProdD ? By how much?', 'With respect to Demand, which one is more important: PrdB or PrdC ? By how much?', 'With respect to Demand, which one is more important: PrdB or ProdD ? By how much?', 'With respect to Demand, which one is more important: PrdC or ProdD ? By how much?']\n",
      ".........\n",
      "['With respect to Profit, which one is more important: PrdA or PrdB ? By how much?', 'With respect to Profit, which one is more important: PrdA or PrdC ? By how much?', 'With respect to Profit, which one is more important: PrdA or ProdD ? By how much?', 'With respect to Profit, which one is more important: PrdB or PrdC ? By how much?', 'With respect to Profit, which one is more important: PrdB or ProdD ? By how much?', 'With respect to Profit, which one is more important: PrdC or ProdD ? By how much?']\n",
      ".........\n",
      "['With respect to Fit, which one is more important: PrdA or PrdB ? By how much?', 'With respect to Fit, which one is more important: PrdA or PrdC ? By how much?', 'With respect to Fit, which one is more important: PrdA or ProdD ? By how much?', 'With respect to Fit, which one is more important: PrdB or PrdC ? By how much?', 'With respect to Fit, which one is more important: PrdB or ProdD ? By how much?', 'With respect to Fit, which one is more important: PrdC or ProdD ? By how much?']\n",
      ".........\n",
      "['With respect to ProcTime, which one is more important: PrdA or PrdB ? By how much?', 'With respect to ProcTime, which one is more important: PrdA or PrdC ? By how much?', 'With respect to ProcTime, which one is more important: PrdA or ProdD ? By how much?', 'With respect to ProcTime, which one is more important: PrdB or PrdC ? By how much?', 'With respect to ProcTime, which one is more important: PrdB or ProdD ? By how much?', 'With respect to ProcTime, which one is more important: PrdC or ProdD ? By how much?']\n",
      ".........\n",
      "['With respect to Aligment, which one is more important: PrdA or PrdB ? By how much?', 'With respect to Aligment, which one is more important: PrdA or PrdC ? By how much?', 'With respect to Aligment, which one is more important: PrdA or ProdD ? By how much?', 'With respect to Aligment, which one is more important: PrdB or PrdC ? By how much?', 'With respect to Aligment, which one is more important: PrdB or ProdD ? By how much?', 'With respect to Aligment, which one is more important: PrdC or ProdD ? By how much?']\n",
      ".........\n",
      "['With respect to TIS, which one is more important: PrdA or PrdB ? By how much?', 'With respect to TIS, which one is more important: PrdA or PrdC ? By how much?', 'With respect to TIS, which one is more important: PrdA or ProdD ? By how much?', 'With respect to TIS, which one is more important: PrdB or PrdC ? By how much?', 'With respect to TIS, which one is more important: PrdB or ProdD ? By how much?', 'With respect to TIS, which one is more important: PrdC or ProdD ? By how much?']\n",
      ".........\n"
     ]
    }
   ],
   "source": [
    "q1=cdf_inp.genFullQuest(prdMix,\"important\")\n",
    "\n",
    "\n",
    "cdf_inp.printQuest(q1)"
   ]
  },
  {
   "cell_type": "code",
   "execution_count": 12,
   "metadata": {},
   "outputs": [],
   "source": [
    "cdf_inp.export4ExcelQuestFull(prdMix,'prdMix.xlsx')"
   ]
  },
  {
   "cell_type": "code",
   "execution_count": 13,
   "metadata": {},
   "outputs": [
    {
     "name": "stdout",
     "output_type": "stream",
     "text": [
      "50\n"
     ]
    }
   ],
   "source": [
    "cdf_inp.import4Excel(prdMix,'prdMix.xlsx',0)"
   ]
  },
  {
   "cell_type": "code",
   "execution_count": 14,
   "metadata": {},
   "outputs": [
    {
     "name": "stdout",
     "output_type": "stream",
     "text": [
      "[array([[1.    , 1.    , 3.    , 4.    , 5.    , 6.    ],\n",
      "       [1.    , 1.    , 2.    , 3.    , 4.    , 5.    ],\n",
      "       [0.3333, 0.5   , 1.    , 6.    , 7.    , 3.    ],\n",
      "       [0.25  , 0.3333, 0.1667, 1.    , 0.2   , 0.125 ],\n",
      "       [0.2   , 0.25  , 0.1429, 5.    , 1.    , 7.    ],\n",
      "       [0.1667, 0.2   , 0.3333, 8.    , 0.1429, 1.    ]]), array([[1.    , 3.    , 2.    , 0.5   ],\n",
      "       [0.3333, 1.    , 0.3333, 0.1111],\n",
      "       [0.5   , 3.    , 1.    , 0.25  ],\n",
      "       [2.    , 9.    , 4.    , 1.    ]]), array([[1.    , 1.    , 3.    , 0.25  ],\n",
      "       [1.    , 1.    , 2.    , 0.1111],\n",
      "       [0.3333, 0.5   , 1.    , 0.2   ],\n",
      "       [4.    , 9.    , 5.    , 1.    ]]), array([[1.    , 2.    , 4.    , 7.    ],\n",
      "       [0.5   , 1.    , 3.    , 5.    ],\n",
      "       [0.25  , 0.3333, 1.    , 3.    ],\n",
      "       [0.1429, 0.2   , 0.3333, 1.    ]]), array([[1.    , 1.    , 0.25  , 1.    ],\n",
      "       [1.    , 1.    , 0.25  , 1.    ],\n",
      "       [4.    , 4.    , 1.    , 3.    ],\n",
      "       [1.    , 1.    , 0.3333, 1.    ]]), array([[1.    , 3.    , 3.    , 6.    ],\n",
      "       [0.3333, 1.    , 1.    , 3.    ],\n",
      "       [0.3333, 1.    , 1.    , 3.    ],\n",
      "       [0.1667, 0.3333, 0.3333, 1.    ]]), array([[1.    , 0.3333, 0.2   , 1.    ],\n",
      "       [3.    , 1.    , 0.3333, 4.    ],\n",
      "       [5.    , 3.    , 1.    , 7.    ],\n",
      "       [1.    , 0.25  , 0.1429, 1.    ]])]\n"
     ]
    }
   ],
   "source": [
    "print(prdMix.all_pc_matrices)"
   ]
  },
  {
   "cell_type": "code",
   "execution_count": 16,
   "metadata": {},
   "outputs": [
    {
     "data": {
      "text/plain": [
       "array([0.3068, 0.2494, 0.2203, 0.0341, 0.1204, 0.0691])"
      ]
     },
     "execution_count": 16,
     "metadata": {},
     "output_type": "execute_result"
    }
   ],
   "source": [
    "cdf_calc.priorityVector(prdMix.all_pc_matrices[0])\n"
   ]
  },
  {
   "cell_type": "code",
   "execution_count": 17,
   "metadata": {},
   "outputs": [
    {
     "name": "stdout",
     "output_type": "stream",
     "text": [
      "[[0.     0.     0.     0.     0.     0.     0.     0.     0.     0.\n",
      "  0.    ]\n",
      " [0.3068 0.     0.     0.     0.     0.     0.     0.     0.     0.\n",
      "  0.    ]\n",
      " [0.2494 0.     0.     0.     0.     0.     0.     0.     0.     0.\n",
      "  0.    ]\n",
      " [0.2203 0.     0.     0.     0.     0.     0.     0.     0.     0.\n",
      "  0.    ]\n",
      " [0.0341 0.     0.     0.     0.     0.     0.     0.     0.     0.\n",
      "  0.    ]\n",
      " [0.1204 0.     0.     0.     0.     0.     0.     0.     0.     0.\n",
      "  0.    ]\n",
      " [0.0691 0.     0.     0.     0.     0.     0.     0.     0.     0.\n",
      "  0.    ]\n",
      " [0.     0.2477 0.158  0.5046 0.1469 0.5346 0.091  0.     0.     0.\n",
      "  0.    ]\n",
      " [0.     0.063  0.1187 0.3061 0.1469 0.1963 0.2542 0.     0.     0.\n",
      "  0.    ]\n",
      " [0.     0.1472 0.0754 0.1314 0.548  0.1963 0.5771 0.     0.     0.\n",
      "  0.    ]\n",
      " [0.     0.5421 0.6479 0.0579 0.1583 0.0728 0.0777 0.     0.     0.\n",
      "  0.    ]]\n"
     ]
    }
   ],
   "source": [
    "super=cdf_calc.calcUnweightedSuperMatrix(prdMix)\n",
    "print(super)"
   ]
  },
  {
   "cell_type": "code",
   "execution_count": 18,
   "metadata": {},
   "outputs": [],
   "source": [
    "ret=cdf_calc.calcHierarchy(prdMix.supermatrix)"
   ]
  },
  {
   "cell_type": "code",
   "execution_count": 19,
   "metadata": {},
   "outputs": [
    {
     "name": "stdout",
     "output_type": "stream",
     "text": [
      "[[0.     0.     0.     0.     0.     0.     0.     0.     0.     0.\n",
      "  0.    ]\n",
      " [0.1534 0.     0.     0.     0.     0.     0.     0.     0.     0.\n",
      "  0.    ]\n",
      " [0.1247 0.     0.     0.     0.     0.     0.     0.     0.     0.\n",
      "  0.    ]\n",
      " [0.1102 0.     0.     0.     0.     0.     0.     0.     0.     0.\n",
      "  0.    ]\n",
      " [0.017  0.     0.     0.     0.     0.     0.     0.     0.     0.\n",
      "  0.    ]\n",
      " [0.0602 0.     0.     0.     0.     0.     0.     0.     0.     0.\n",
      "  0.    ]\n",
      " [0.0345 0.     0.     0.     0.     0.     0.     0.     0.     0.\n",
      "  0.    ]\n",
      " [0.1511 0.2477 0.158  0.5046 0.1469 0.5346 0.091  0.     0.     0.\n",
      "  0.    ]\n",
      " [0.0813 0.063  0.1187 0.3061 0.1469 0.1963 0.2542 0.     0.     0.\n",
      "  0.    ]\n",
      " [0.0875 0.1472 0.0754 0.1314 0.548  0.1963 0.5771 0.     0.     0.\n",
      "  0.    ]\n",
      " [0.1801 0.5421 0.6479 0.0579 0.1583 0.0728 0.0777 0.     0.     0.\n",
      "  0.    ]]\n"
     ]
    }
   ],
   "source": [
    "print(ret)"
   ]
  },
  {
   "cell_type": "code",
   "execution_count": 20,
   "metadata": {},
   "outputs": [
    {
     "name": "stdout",
     "output_type": "stream",
     "text": [
      "[0.     0.1534 0.1247 0.1102 0.017  0.0602 0.0345 0.1511 0.0813 0.0875\n",
      " 0.1801]\n"
     ]
    }
   ],
   "source": [
    "limit=cdf_calc.calcLimitingPriorities(prdMix.supermatrix)"
   ]
  },
  {
   "cell_type": "code",
   "execution_count": 22,
   "metadata": {},
   "outputs": [
    {
     "name": "stdout",
     "output_type": "stream",
     "text": [
      "[0.     0.3068 0.2494 0.2203 0.0341 0.1204 0.0691 0.3022 0.1626 0.1751\n",
      " 0.3602]\n"
     ]
    }
   ],
   "source": [
    "bycluster=cdf_calc.calcPrioritiesNormalizedByCluster(prdMix.supermatrix,prdMix)"
   ]
  },
  {
   "cell_type": "code",
   "execution_count": 23,
   "metadata": {},
   "outputs": [
    {
     "name": "stdout",
     "output_type": "stream",
     "text": [
      "0.0 -- [0.     0.     0.1799 0.1589 0.0246 0.0868 0.0498 0.1632 0.1033 0.0937\n",
      " 0.1398]\n",
      "0.1 -- [0.     0.063  0.1572 0.1389 0.0215 0.0759 0.0435 0.1582 0.0943 0.0912\n",
      " 0.1564]\n",
      "0.2 -- [0.     0.112  0.1396 0.1233 0.0191 0.0674 0.0387 0.1544 0.0872 0.0892\n",
      " 0.1692]\n",
      "0.30000000000000004 -- [0.     0.151  0.1255 0.1109 0.0172 0.0606 0.0348 0.1513 0.0816 0.0876\n",
      " 0.1795]\n",
      "0.4 -- [0.     0.183  0.114  0.1008 0.0156 0.055  0.0316 0.1488 0.077  0.0864\n",
      " 0.1878]\n",
      "0.5 -- [0.     0.2095 0.1045 0.0923 0.0143 0.0504 0.0289 0.1467 0.0732 0.0853\n",
      " 0.1948]\n",
      "0.6000000000000001 -- [0.     0.232  0.0964 0.0852 0.0132 0.0465 0.0267 0.1449 0.07   0.0844\n",
      " 0.2007]\n",
      "0.7000000000000001 -- [0.     0.2512 0.0895 0.0791 0.0122 0.0432 0.0248 0.1434 0.0672 0.0836\n",
      " 0.2058]\n",
      "0.8 -- [0.     0.2679 0.0835 0.0738 0.0114 0.0403 0.0231 0.1421 0.0648 0.0829\n",
      " 0.2101]\n",
      "0.9 -- [0.     0.2825 0.0783 0.0691 0.0107 0.0378 0.0217 0.141  0.0627 0.0823\n",
      " 0.214 ]\n",
      "1.0 -- [0.     0.2953 0.0736 0.0651 0.0101 0.0355 0.0204 0.1399 0.0609 0.0818\n",
      " 0.2173]\n"
     ]
    }
   ],
   "source": [
    "super=cdf_calc.calcUnweightedSuperMatrix(prdMix)\n",
    "cdf_calc.sensitivityCellSupermatrix(super,1)"
   ]
  }
 ],
 "metadata": {
  "kernelspec": {
   "display_name": "Python 3.10.3 ('.venvMac': venv)",
   "language": "python",
   "name": "python3"
  },
  "language_info": {
   "codemirror_mode": {
    "name": "ipython",
    "version": 3
   },
   "file_extension": ".py",
   "mimetype": "text/x-python",
   "name": "python",
   "nbconvert_exporter": "python",
   "pygments_lexer": "ipython3",
   "version": "3.10.3"
  },
  "orig_nbformat": 4,
  "vscode": {
   "interpreter": {
    "hash": "6814cab4fd1264f9e42a30bcc477698b4ed264a8dbc424278d00e9ac8f83d830"
   }
  }
 },
 "nbformat": 4,
 "nbformat_minor": 2
}
