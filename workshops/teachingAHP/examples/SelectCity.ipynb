{
 "cells": [
  {
   "cell_type": "code",
   "execution_count": 3,
   "metadata": {},
   "outputs": [
    {
     "data": {
      "text/plain": [
       "'%.4f'"
      ]
     },
     "execution_count": 3,
     "metadata": {},
     "output_type": "execute_result"
    }
   ],
   "source": [
    "# import the required components\n",
    "import pandas as pd\n",
    "import numpy as np\n",
    "\n",
    "# import sys\n",
    "# sys.path.insert(0,'../')\n",
    "\n",
    "import inputs_AHPLib as cdf_inp\n",
    "import structs_AHPLib as cdf_str\n",
    "#set here the number of decimals that you want to be displayed\n",
    "%precision 4"
   ]
  },
  {
   "cell_type": "code",
   "execution_count": 4,
   "metadata": {},
   "outputs": [
    {
     "name": "stdout",
     "output_type": "stream",
     "text": [
      "Nodes: []\n",
      " Clusters: []\n",
      " Node Connections: []\n",
      " Cluster Connections: []\n"
     ]
    }
   ],
   "source": [
    "best_city=cdf_str.Model()\n",
    "print(best_city)"
   ]
  },
  {
   "cell_type": "code",
   "execution_count": 5,
   "metadata": {},
   "outputs": [],
   "source": [
    "c0=cdf_str.Node(\"Goal Node\",0)\n",
    "c1=cdf_str.Node(\"Safety\",1)\n",
    "c2=cdf_str.Node(\"Family\",2)\n",
    "c3=cdf_str.Node(\"Infrastructure\",3)\n",
    "c4=cdf_str.Node(\"Jobs\",4)\n",
    "c5=cdf_str.Node(\"Recreation\",5)\n",
    "c6=cdf_str.Node(\"Weather\",6)\n",
    "c7=cdf_str.Node(\"Cost of Living\",7)\n",
    "c8=cdf_str.Node(\"Standard of Living\",8)\n",
    "c9=cdf_str.Node(\"Quality of Life\",9)"
   ]
  },
  {
   "cell_type": "code",
   "execution_count": 6,
   "metadata": {},
   "outputs": [],
   "source": [
    "cl0=cdf_str.Cluster(\"Goal\",0)\n",
    "cl1=cdf_str.Cluster(\"Main Criteria\",1)\n",
    "cl2=cdf_str.Cluster(\"St of Liv Sub Criteria\",2)\n",
    "cl3=cdf_str.Cluster(\"Qual of Life Sub Criteria\",3)"
   ]
  },
  {
   "cell_type": "code",
   "execution_count": 7,
   "metadata": {},
   "outputs": [],
   "source": [
    "cl0.addNode2Cluster(c0)\n",
    "\n",
    "cl1.addNode2Cluster(c2)\n",
    "cl1.addNode2Cluster(c5)\n",
    "cl1.addNode2Cluster(c6)\n",
    "cl1.addNode2Cluster(c8)\n",
    "cl1.addNode2Cluster(c9)\n",
    "\n",
    "cl2.addNode2Cluster(c1)\n",
    "cl2.addNode2Cluster(c3)\n",
    "\n",
    "cl3.addNode2Cluster(c4)\n",
    "cl3.addNode2Cluster(c7)"
   ]
  },
  {
   "cell_type": "code",
   "execution_count": 8,
   "metadata": {},
   "outputs": [],
   "source": [
    "best_city.addCluster2Model(cl0)\n",
    "best_city.addCluster2Model(cl1)\n",
    "best_city.addCluster2Model(cl2)\n",
    "best_city.addCluster2Model(cl3)\n"
   ]
  },
  {
   "cell_type": "code",
   "execution_count": 9,
   "metadata": {},
   "outputs": [
    {
     "name": "stdout",
     "output_type": "stream",
     "text": [
      "Nodes: [Goal Node NID: 0 order: 0, Family NID: 2 order: 2, Recreation NID: 5 order: 5, Weather NID: 6 order: 6, Standard of Living NID: 8 order: 8, Quality of Life NID: 9 order: 9, Safety NID: 1 order: 1, Infrastructure NID: 3 order: 3, Jobs NID: 4 order: 4, Cost of Living NID: 7 order: 7]\n",
      " Clusters: [Goal CID:  0 order: 0, Main Criteria CID:  1 order: 1, St of Liv Sub Criteria CID:  2 order: 2, Qual of Life Sub Criteria CID:  3 order: 3]\n",
      " Node Connections: []\n",
      " Cluster Connections: []\n"
     ]
    }
   ],
   "source": [
    "print(best_city)"
   ]
  },
  {
   "cell_type": "code",
   "execution_count": 14,
   "metadata": {},
   "outputs": [
    {
     "name": "stdout",
     "output_type": "stream",
     "text": [
      "Trying to add n2. Node already in connections.\n",
      "node: Goal Node connectedTo: [Family NID: 2 order: 2, Recreation NID: 5 order: 5, Weather NID: 6 order: 6, Standard of Living NID: 8 order: 8, Quality of Life NID: 9 order: 9]\n",
      "Trying to add n5. Node already in connections.\n",
      "node: Goal Node connectedTo: [Family NID: 2 order: 2, Recreation NID: 5 order: 5, Weather NID: 6 order: 6, Standard of Living NID: 8 order: 8, Quality of Life NID: 9 order: 9]\n",
      "Trying to add n6. Node already in connections.\n",
      "node: Goal Node connectedTo: [Family NID: 2 order: 2, Recreation NID: 5 order: 5, Weather NID: 6 order: 6, Standard of Living NID: 8 order: 8, Quality of Life NID: 9 order: 9]\n",
      "Trying to add n8. Node already in connections.\n",
      "node: Goal Node connectedTo: [Family NID: 2 order: 2, Recreation NID: 5 order: 5, Weather NID: 6 order: 6, Standard of Living NID: 8 order: 8, Quality of Life NID: 9 order: 9]\n",
      "Trying to add n9. Node already in connections.\n",
      "node: Goal Node connectedTo: [Family NID: 2 order: 2, Recreation NID: 5 order: 5, Weather NID: 6 order: 6, Standard of Living NID: 8 order: 8, Quality of Life NID: 9 order: 9]\n"
     ]
    }
   ],
   "source": [
    "best_city.addNodeConnectionFromNodeToAllNodesOfCluster(\"Goal Node\",\"Main Criteria\")"
   ]
  },
  {
   "cell_type": "code",
   "execution_count": 15,
   "metadata": {},
   "outputs": [
    {
     "name": "stdout",
     "output_type": "stream",
     "text": [
      "Trying to add n1. Node already in connections.\n",
      "node: Standard of Living connectedTo: [Safety NID: 1 order: 1, Infrastructure NID: 3 order: 3]\n",
      "Trying to add n3. Node already in connections.\n",
      "node: Standard of Living connectedTo: [Safety NID: 1 order: 1, Infrastructure NID: 3 order: 3]\n",
      "Trying to add n4. Node already in connections.\n",
      "node: Quality of Life connectedTo: [Jobs NID: 4 order: 4, Cost of Living NID: 7 order: 7]\n",
      "Trying to add n7. Node already in connections.\n",
      "node: Quality of Life connectedTo: [Jobs NID: 4 order: 4, Cost of Living NID: 7 order: 7]\n"
     ]
    }
   ],
   "source": [
    "best_city.addNodeConnectionFromNodeToAllNodesOfCluster(\"Standard of Living\",\"St of Liv Sub Criteria\")\n",
    "best_city.addNodeConnectionFromNodeToAllNodesOfCluster(\"Quality of Life\",\"Qual of Life Sub Criteria\")"
   ]
  },
  {
   "cell_type": "code",
   "execution_count": 16,
   "metadata": {},
   "outputs": [
    {
     "name": "stdout",
     "output_type": "stream",
     "text": [
      "Connection(s) from cluster Goal CID:  0 order: 0\n",
      " to: Main Criteria CID:  1 order: 1\n",
      "Connection(s) from cluster Main Criteria CID:  1 order: 1\n",
      " to: St of Liv Sub Criteria CID:  2 order: 2\n",
      " to: Qual of Life Sub Criteria CID:  3 order: 3\n",
      "No connections from St of Liv Sub Criteria\n",
      "No connections from Qual of Life Sub Criteria\n"
     ]
    }
   ],
   "source": [
    "best_city.showAllClusterConnections()\n"
   ]
  },
  {
   "cell_type": "code",
   "execution_count": 13,
   "metadata": {},
   "outputs": [
    {
     "name": "stdout",
     "output_type": "stream",
     "text": [
      "Connections from node Goal Node NID: 0 order: 0\n",
      " to: Family NID: 2 order: 2\n",
      " to: Recreation NID: 5 order: 5\n",
      " to: Weather NID: 6 order: 6\n",
      " to: Standard of Living NID: 8 order: 8\n",
      " to: Quality of Life NID: 9 order: 9\n",
      "No connections from Family\n",
      "No connections from Recreation\n",
      "No connections from Weather\n",
      "Connections from node Standard of Living NID: 8 order: 8\n",
      " to: Safety NID: 1 order: 1\n",
      " to: Infrastructure NID: 3 order: 3\n",
      "Connections from node Quality of Life NID: 9 order: 9\n",
      " to: Jobs NID: 4 order: 4\n",
      " to: Cost of Living NID: 7 order: 7\n",
      "No connections from Safety\n",
      "No connections from Infrastructure\n",
      "No connections from Jobs\n",
      "No connections from Cost of Living\n"
     ]
    }
   ],
   "source": [
    "best_city.showAllNodeConnections()"
   ]
  },
  {
   "cell_type": "code",
   "execution_count": 17,
   "metadata": {},
   "outputs": [],
   "source": [
    "q1= cdf_inp.genFullQuest(best_city,\"important\")"
   ]
  },
  {
   "cell_type": "code",
   "execution_count": 18,
   "metadata": {},
   "outputs": [
    {
     "name": "stdout",
     "output_type": "stream",
     "text": [
      "[['With respect to Goal Node, which one is more important: Family or Recreation ? By how much?', 'With respect to Goal Node, which one is more important: Family or Weather ? By how much?', 'With respect to Goal Node, which one is more important: Family or Standard of Living ? By how much?', 'With respect to Goal Node, which one is more important: Family or Quality of Life ? By how much?', 'With respect to Goal Node, which one is more important: Recreation or Weather ? By how much?', 'With respect to Goal Node, which one is more important: Recreation or Standard of Living ? By how much?', 'With respect to Goal Node, which one is more important: Recreation or Quality of Life ? By how much?', 'With respect to Goal Node, which one is more important: Weather or Standard of Living ? By how much?', 'With respect to Goal Node, which one is more important: Weather or Quality of Life ? By how much?', 'With respect to Goal Node, which one is more important: Standard of Living or Quality of Life ? By how much?'], ['With respect to Standard of Living, which one is more important: Safety or Infrastructure ? By how much?'], ['With respect to Quality of Life, which one is more important: Jobs or Cost of Living ? By how much?']]\n"
     ]
    }
   ],
   "source": [
    "print(q1)"
   ]
  },
  {
   "cell_type": "code",
   "execution_count": 19,
   "metadata": {},
   "outputs": [],
   "source": [
    "cdf_inp.export4ExcelQuestFull(best_city,'best_city.xlsx')"
   ]
  },
  {
   "cell_type": "code",
   "execution_count": null,
   "metadata": {},
   "outputs": [],
   "source": []
  }
 ],
 "metadata": {
  "kernelspec": {
   "display_name": "Python 3.10.3 ('.venvMac': venv)",
   "language": "python",
   "name": "python3"
  },
  "language_info": {
   "codemirror_mode": {
    "name": "ipython",
    "version": 3
   },
   "file_extension": ".py",
   "mimetype": "text/x-python",
   "name": "python",
   "nbconvert_exporter": "python",
   "pygments_lexer": "ipython3",
   "version": "3.10.3"
  },
  "orig_nbformat": 4,
  "vscode": {
   "interpreter": {
    "hash": "6814cab4fd1264f9e42a30bcc477698b4ed264a8dbc424278d00e9ac8f83d830"
   }
  }
 },
 "nbformat": 4,
 "nbformat_minor": 2
}
