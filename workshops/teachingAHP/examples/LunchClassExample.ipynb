{
  "cells": [
    {
      "cell_type": "code",
      "execution_count": 2,
      "metadata": {
        "trusted": true
      },
      "outputs": [
        {
          "data": {
            "text/plain": [
              "'%.4f'"
            ]
          },
          "execution_count": 2,
          "metadata": {},
          "output_type": "execute_result"
        }
      ],
      "source": [
        "# import the required components\n",
        "import pandas as pd\n",
        "import numpy as np\n",
        "import sys\n",
        "sys.path.insert(0,'../')\n",
        "import inputs_AHPLib as cdf_inp\n",
        "import structs_AHPLib as cdf_str\n",
        "#set here the number of decimals that you want to be displayed\n",
        "%precision 4"
      ]
    },
    {
      "cell_type": "code",
      "execution_count": 3,
      "metadata": {
        "trusted": true
      },
      "outputs": [
        {
          "name": "stdout",
          "output_type": "stream",
          "text": [
            "Nodes: []\n",
            " Clusters: []\n",
            " Node Connections: []\n",
            " Cluster Connections: []\n"
          ]
        }
      ],
      "source": [
        "lunchModel=cdf_str.Model()\n",
        "\n",
        "print(lunchModel)"
      ]
    },
    {
      "cell_type": "code",
      "execution_count": 4,
      "metadata": {
        "trusted": true
      },
      "outputs": [
        {
          "name": "stdout",
          "output_type": "stream",
          "text": [
            "GoalNode NID: 0 order: 1\n"
          ]
        }
      ],
      "source": [
        "goal_node=cdf_str.Node(\"GoalNode\",1)\n",
        "\n",
        "print(goal_node)"
      ]
    },
    {
      "cell_type": "code",
      "execution_count": 5,
      "metadata": {
        "trusted": true
      },
      "outputs": [
        {
          "name": "stdout",
          "output_type": "stream",
          "text": [
            "Quality NID: 1 order: 1\n",
            "Price NID: 2 order: 2\n",
            "Menu NID: 3 order: 3\n",
            "Speed NID: 4 order: 4\n"
          ]
        }
      ],
      "source": [
        "qual=cdf_str.Node(\"Quality\",1)\n",
        "prc=cdf_str.Node(\"Price\",2)\n",
        "mn=cdf_str.Node(\"Menu\",3)\n",
        "spd=cdf_str.Node(\"Speed\",4)\n",
        "\n",
        "print(qual)\n",
        "print(prc)\n",
        "print(mn)\n",
        "print(spd)"
      ]
    },
    {
      "cell_type": "code",
      "execution_count": 6,
      "metadata": {
        "trusted": true
      },
      "outputs": [
        {
          "name": "stdout",
          "output_type": "stream",
          "text": [
            "GoalNode NID: 5 order: 1\n"
          ]
        }
      ],
      "source": [
        "goal_node=cdf_str.Node(\"GoalNode\",1)\n",
        "\n",
        "print(goal_node)"
      ]
    },
    {
      "cell_type": "code",
      "execution_count": 7,
      "metadata": {
        "trusted": true
      },
      "outputs": [
        {
          "name": "stdout",
          "output_type": "stream",
          "text": [
            "Primanti NID: 6 order: 2\n",
            "Panera NID: 7 order: 3\n",
            "Piada NID: 8 order: 4\n"
          ]
        }
      ],
      "source": [
        "alt1=cdf_str.Node(\"Primanti\",2)\n",
        "alt2=cdf_str.Node(\"Panera\",3)\n",
        "alt3=cdf_str.Node(\"Piada\",4)\n",
        "\n",
        "print(alt1)\n",
        "print(alt2)\n",
        "print(alt3)"
      ]
    },
    {
      "cell_type": "code",
      "execution_count": 8,
      "metadata": {
        "trusted": true
      },
      "outputs": [
        {
          "name": "stdout",
          "output_type": "stream",
          "text": [
            "1Goal CID:  0 order: 0\n",
            "2Criteria CID:  1 order: 2\n",
            "3Alternatives CID:  2 order: 3\n"
          ]
        }
      ],
      "source": [
        "cluster0=cdf_str.Cluster(\"1Goal\",0)\n",
        "cluster1=cdf_str.Cluster(\"2Criteria\",2)\n",
        "cluster2=cdf_str.Cluster(\"3Alternatives\",3)\n",
        "\n",
        "print(cluster0)\n",
        "print(cluster1)\n",
        "print(cluster2)"
      ]
    },
    {
      "cell_type": "code",
      "execution_count": 9,
      "metadata": {
        "trusted": true
      },
      "outputs": [],
      "source": [
        "cluster0.addNode2Cluster(goal_node)"
      ]
    },
    {
      "cell_type": "code",
      "execution_count": 10,
      "metadata": {
        "trusted": true
      },
      "outputs": [],
      "source": [
        "cluster1.addNode2Cluster(qual)\n",
        "cluster1.addNode2Cluster(prc)\n",
        "cluster1.addNode2Cluster(mn)\n",
        "cluster1.addNode2Cluster(spd)"
      ]
    },
    {
      "cell_type": "code",
      "execution_count": 11,
      "metadata": {
        "trusted": true
      },
      "outputs": [],
      "source": [
        "cluster2.addNode2Cluster(alt1)\n",
        "cluster2.addNode2Cluster(alt2)\n",
        "cluster2.addNode2Cluster(alt3)"
      ]
    },
    {
      "cell_type": "code",
      "execution_count": 12,
      "metadata": {
        "trusted": true
      },
      "outputs": [
        {
          "name": "stdout",
          "output_type": "stream",
          "text": [
            "Cluster: 1Goal with nodes: [GoalNode NID: 5 order: 1]\n",
            "\n",
            "Cluster: 2Criteria with nodes: [Quality NID: 1 order: 1, Price NID: 2 order: 2, Menu NID: 3 order: 3, Speed NID: 4 order: 4]\n",
            "\n",
            "Cluster: 3Alternatives with nodes: [Primanti NID: 6 order: 2, Panera NID: 7 order: 3, Piada NID: 8 order: 4]\n",
            "\n"
          ]
        }
      ],
      "source": [
        "cluster0.printWithNodes()\n",
        "cluster1.printWithNodes()\n",
        "cluster2.printWithNodes()"
      ]
    },
    {
      "cell_type": "code",
      "execution_count": 13,
      "metadata": {
        "trusted": true
      },
      "outputs": [],
      "source": [
        "lunchModel.addCluster2Model(cluster0)\n",
        "lunchModel.addCluster2Model(cluster1)\n",
        "lunchModel.addCluster2Model(cluster2)"
      ]
    },
    {
      "cell_type": "code",
      "execution_count": 14,
      "metadata": {
        "trusted": true
      },
      "outputs": [
        {
          "name": "stdout",
          "output_type": "stream",
          "text": [
            "Nodes: [GoalNode NID: 5 order: 1, Quality NID: 1 order: 1, Price NID: 2 order: 2, Menu NID: 3 order: 3, Speed NID: 4 order: 4, Primanti NID: 6 order: 2, Panera NID: 7 order: 3, Piada NID: 8 order: 4]\n",
            " Clusters: [1Goal CID:  0 order: 0, 2Criteria CID:  1 order: 2, 3Alternatives CID:  2 order: 3]\n",
            " Node Connections: []\n",
            " Cluster Connections: []\n"
          ]
        }
      ],
      "source": [
        "print(lunchModel)"
      ]
    },
    {
      "cell_type": "code",
      "execution_count": 15,
      "metadata": {
        "trusted": true
      },
      "outputs": [
        {
          "name": "stdout",
          "output_type": "stream",
          "text": [
            "node: GoalNode connectedTo: [Quality NID: 1 order: 1]\n",
            "connecting from cluster: 0 to cluster 1\n",
            "node: GoalNode connectedTo: [Quality NID: 1 order: 1, Price NID: 2 order: 2]\n",
            "node: GoalNode connectedTo: [Quality NID: 1 order: 1, Price NID: 2 order: 2, Menu NID: 3 order: 3]\n",
            "node: GoalNode connectedTo: [Quality NID: 1 order: 1, Price NID: 2 order: 2, Menu NID: 3 order: 3, Speed NID: 4 order: 4]\n"
          ]
        }
      ],
      "source": [
        "lunchModel.addNodeConnectionFromNodeToAllNodesOfCluster(\"GoalNode\",\"2Criteria\")"
      ]
    },
    {
      "cell_type": "code",
      "execution_count": 16,
      "metadata": {
        "trusted": true
      },
      "outputs": [
        {
          "name": "stdout",
          "output_type": "stream",
          "text": [
            "node: Quality connectedTo: [Primanti NID: 6 order: 2]\n",
            "connecting from cluster: 1 to cluster 2\n",
            "node: Quality connectedTo: [Primanti NID: 6 order: 2, Panera NID: 7 order: 3]\n",
            "node: Quality connectedTo: [Primanti NID: 6 order: 2, Panera NID: 7 order: 3, Piada NID: 8 order: 4]\n",
            "node: Price connectedTo: [Primanti NID: 6 order: 2]\n",
            "node: Price connectedTo: [Primanti NID: 6 order: 2, Panera NID: 7 order: 3]\n",
            "node: Price connectedTo: [Primanti NID: 6 order: 2, Panera NID: 7 order: 3, Piada NID: 8 order: 4]\n",
            "node: Menu connectedTo: [Primanti NID: 6 order: 2]\n",
            "node: Menu connectedTo: [Primanti NID: 6 order: 2, Panera NID: 7 order: 3]\n",
            "node: Menu connectedTo: [Primanti NID: 6 order: 2, Panera NID: 7 order: 3, Piada NID: 8 order: 4]\n",
            "node: Speed connectedTo: [Primanti NID: 6 order: 2]\n",
            "node: Speed connectedTo: [Primanti NID: 6 order: 2, Panera NID: 7 order: 3]\n",
            "node: Speed connectedTo: [Primanti NID: 6 order: 2, Panera NID: 7 order: 3, Piada NID: 8 order: 4]\n"
          ]
        }
      ],
      "source": [
        "lunchModel.addNodeConnectionFromAllNodesToAllNodesOfCluster(\"2Criteria\",\"3Alternatives\")"
      ]
    },
    {
      "cell_type": "code",
      "execution_count": 17,
      "metadata": {
        "trusted": true
      },
      "outputs": [
        {
          "name": "stdout",
          "output_type": "stream",
          "text": [
            "Nodes: [GoalNode NID: 5 order: 1, Quality NID: 1 order: 1, Price NID: 2 order: 2, Menu NID: 3 order: 3, Speed NID: 4 order: 4, Primanti NID: 6 order: 2, Panera NID: 7 order: 3, Piada NID: 8 order: 4]\n",
            " Clusters: [1Goal CID:  0 order: 0, 2Criteria CID:  1 order: 2, 3Alternatives CID:  2 order: 3]\n",
            " Node Connections: {GoalNode NID: 5 order: 1: [Quality NID: 1 order: 1, Price NID: 2 order: 2, Menu NID: 3 order: 3, Speed NID: 4 order: 4], Quality NID: 1 order: 1: [Primanti NID: 6 order: 2, Panera NID: 7 order: 3, Piada NID: 8 order: 4], Price NID: 2 order: 2: [Primanti NID: 6 order: 2, Panera NID: 7 order: 3, Piada NID: 8 order: 4], Menu NID: 3 order: 3: [Primanti NID: 6 order: 2, Panera NID: 7 order: 3, Piada NID: 8 order: 4], Speed NID: 4 order: 4: [Primanti NID: 6 order: 2, Panera NID: 7 order: 3, Piada NID: 8 order: 4], Primanti NID: 6 order: 2: [], Panera NID: 7 order: 3: [], Piada NID: 8 order: 4: []}\n",
            " Cluster Connections: {1Goal CID:  0 order: 0: [2Criteria CID:  1 order: 2], 2Criteria CID:  1 order: 2: [3Alternatives CID:  2 order: 3], 3Alternatives CID:  2 order: 3: []}\n"
          ]
        }
      ],
      "source": [
        "print(lunchModel)"
      ]
    },
    {
      "cell_type": "code",
      "execution_count": 18,
      "metadata": {
        "trusted": true
      },
      "outputs": [
        {
          "name": "stdout",
          "output_type": "stream",
          "text": [
            "Connection(s) from cluster 1Goal CID:  0 order: 0\n",
            " to: 2Criteria CID:  1 order: 2\n",
            "Connection(s) from cluster 2Criteria CID:  1 order: 2\n",
            " to: 3Alternatives CID:  2 order: 3\n",
            "No connections from 3Alternatives\n"
          ]
        }
      ],
      "source": [
        "lunchModel.showAllClusterConnections()"
      ]
    },
    {
      "cell_type": "code",
      "execution_count": 19,
      "metadata": {
        "trusted": true
      },
      "outputs": [
        {
          "name": "stdout",
          "output_type": "stream",
          "text": [
            "Connections from node GoalNode NID: 5 order: 1\n",
            " to: Quality NID: 1 order: 1\n",
            " to: Price NID: 2 order: 2\n",
            " to: Menu NID: 3 order: 3\n",
            " to: Speed NID: 4 order: 4\n",
            "Connections from node Quality NID: 1 order: 1\n",
            " to: Primanti NID: 6 order: 2\n",
            " to: Panera NID: 7 order: 3\n",
            " to: Piada NID: 8 order: 4\n",
            "Connections from node Price NID: 2 order: 2\n",
            " to: Primanti NID: 6 order: 2\n",
            " to: Panera NID: 7 order: 3\n",
            " to: Piada NID: 8 order: 4\n",
            "Connections from node Menu NID: 3 order: 3\n",
            " to: Primanti NID: 6 order: 2\n",
            " to: Panera NID: 7 order: 3\n",
            " to: Piada NID: 8 order: 4\n",
            "Connections from node Speed NID: 4 order: 4\n",
            " to: Primanti NID: 6 order: 2\n",
            " to: Panera NID: 7 order: 3\n",
            " to: Piada NID: 8 order: 4\n",
            "No connections from Primanti\n",
            "No connections from Panera\n",
            "No connections from Piada\n"
          ]
        }
      ],
      "source": [
        "lunchModel.showAllNodeConnections()"
      ]
    },
    {
      "cell_type": "code",
      "execution_count": 20,
      "metadata": {
        "trusted": true
      },
      "outputs": [
        {
          "name": "stdout",
          "output_type": "stream",
          "text": [
            "Connections from node Quality NID: 1 order: 1 to: \n",
            "Primanti NID: 6 order: 2\n",
            "Panera NID: 7 order: 3\n",
            "Piada NID: 8 order: 4\n"
          ]
        }
      ],
      "source": [
        "lunchModel.showAllNodeConnectionsFrom(\"Quality\")"
      ]
    },
    {
      "cell_type": "code",
      "execution_count": 21,
      "metadata": {
        "trusted": true
      },
      "outputs": [
        {
          "name": "stdout",
          "output_type": "stream",
          "text": [
            "Connections from node GoalNode NID: 5 order: 1 to: Quality NID: 1 order: 1\n"
          ]
        }
      ],
      "source": [
        "lunchModel.showAllNodeConnectionsTo(\"Quality\")"
      ]
    },
    {
      "cell_type": "code",
      "execution_count": 22,
      "metadata": {
        "trusted": true
      },
      "outputs": [
        {
          "name": "stdout",
          "output_type": "stream",
          "text": [
            "['With respect to GoalNode, which one is more important: Quality or Price ? By how much?', 'With respect to GoalNode, which one is more important: Quality or Menu ? By how much?', 'With respect to GoalNode, which one is more important: Quality or Speed ? By how much?', 'With respect to GoalNode, which one is more important: Price or Menu ? By how much?', 'With respect to GoalNode, which one is more important: Price or Speed ? By how much?', 'With respect to GoalNode, which one is more important: Menu or Speed ? By how much?']\n",
            ".........\n",
            "['With respect to Quality, which one is more important: Primanti or Panera ? By how much?', 'With respect to Quality, which one is more important: Primanti or Piada ? By how much?', 'With respect to Quality, which one is more important: Panera or Piada ? By how much?']\n",
            ".........\n",
            "['With respect to Price, which one is more important: Primanti or Panera ? By how much?', 'With respect to Price, which one is more important: Primanti or Piada ? By how much?', 'With respect to Price, which one is more important: Panera or Piada ? By how much?']\n",
            ".........\n",
            "['With respect to Menu, which one is more important: Primanti or Panera ? By how much?', 'With respect to Menu, which one is more important: Primanti or Piada ? By how much?', 'With respect to Menu, which one is more important: Panera or Piada ? By how much?']\n",
            ".........\n",
            "['With respect to Speed, which one is more important: Primanti or Panera ? By how much?', 'With respect to Speed, which one is more important: Primanti or Piada ? By how much?', 'With respect to Speed, which one is more important: Panera or Piada ? By how much?']\n",
            ".........\n",
            "___________________________________________________________\n"
          ]
        }
      ],
      "source": [
        "q1=cdf_inp.genFullQuest(lunchModel,\"important\")\n",
        "\n",
        "\n",
        "cdf_inp.printQuest(q1)\n",
        "print(\"___________________________________________________________\")\n"
      ]
    },
    {
      "cell_type": "code",
      "execution_count": 23,
      "metadata": {
        "trusted": true
      },
      "outputs": [
        {
          "name": "stdout",
          "output_type": "stream",
          "text": [
            "['With respect to GoalNode, which one is more dominant: Quality or Price ? By how much?', 'With respect to GoalNode, which one is more dominant: Quality or Menu ? By how much?', 'With respect to GoalNode, which one is more dominant: Quality or Speed ? By how much?', 'With respect to GoalNode, which one is more dominant: Price or Menu ? By how much?', 'With respect to GoalNode, which one is more dominant: Menu or Speed ? By how much?']\n",
            ".........\n",
            "['With respect to Quality, which one is more dominant: Primanti or Panera ? By how much?', 'With respect to Quality, which one is more dominant: Primanti or Piada ? By how much?', 'With respect to Quality, which one is more dominant: Panera or Piada ? By how much?']\n",
            ".........\n",
            "['With respect to Price, which one is more dominant: Primanti or Panera ? By how much?', 'With respect to Price, which one is more dominant: Primanti or Piada ? By how much?', 'With respect to Price, which one is more dominant: Panera or Piada ? By how much?']\n",
            ".........\n",
            "['With respect to Menu, which one is more dominant: Primanti or Panera ? By how much?', 'With respect to Menu, which one is more dominant: Primanti or Piada ? By how much?', 'With respect to Menu, which one is more dominant: Panera or Piada ? By how much?']\n",
            ".........\n",
            "['With respect to Speed, which one is more dominant: Primanti or Panera ? By how much?', 'With respect to Speed, which one is more dominant: Primanti or Piada ? By how much?', 'With respect to Speed, which one is more dominant: Panera or Piada ? By how much?']\n",
            ".........\n",
            "___________________________________________________________\n"
          ]
        }
      ],
      "source": [
        "q2=cdf_inp.genFirstLineAboveDiagQuest(lunchModel,\"dominant\")\n",
        "\n",
        "cdf_inp.printQuest(q2)\n",
        "print(\"___________________________________________________________\")"
      ]
    },
    {
      "cell_type": "code",
      "execution_count": 24,
      "metadata": {
        "trusted": true
      },
      "outputs": [
        {
          "name": "stdout",
          "output_type": "stream",
          "text": [
            "['With respect to GoalNode, which one is more preferred: Quality or Price ? By how much?', 'With respect to GoalNode, which one is more preferred: Quality or Menu ? By how much?', 'With respect to GoalNode, which one is more preferred: Quality or Speed ? By how much?']\n",
            ".........\n",
            "['With respect to Quality, which one is more preferred: Primanti or Panera ? By how much?', 'With respect to Quality, which one is more preferred: Primanti or Piada ? By how much?']\n",
            ".........\n",
            "['With respect to Price, which one is more preferred: Primanti or Panera ? By how much?', 'With respect to Price, which one is more preferred: Primanti or Piada ? By how much?']\n",
            ".........\n",
            "['With respect to Menu, which one is more preferred: Primanti or Panera ? By how much?', 'With respect to Menu, which one is more preferred: Primanti or Piada ? By how much?']\n",
            ".........\n",
            "['With respect to Speed, which one is more preferred: Primanti or Panera ? By how much?', 'With respect to Speed, which one is more preferred: Primanti or Piada ? By how much?']\n",
            ".........\n",
            "___________________________________________________________\n"
          ]
        }
      ],
      "source": [
        "q3=cdf_inp.genFirstLineQuest(lunchModel,\"preferred\")\n",
        "cdf_inp.printQuest(q3)\n",
        "print(\"___________________________________________________________\")"
      ]
    },
    {
      "cell_type": "code",
      "execution_count": null,
      "metadata": {},
      "outputs": [],
      "source": [
        "cdf_inp.export4ExcelQuestFull(lunchModel,'lunch.xlsx')"
      ]
    }
  ],
  "metadata": {
    "kernelspec": {
      "display_name": "Python 3.9.7 ('.venvANPLibW': venv)",
      "language": "python",
      "name": "python3"
    },
    "language_info": {
      "codemirror_mode": {
        "name": "ipython",
        "version": 3
      },
      "file_extension": ".py",
      "mimetype": "text/x-python",
      "name": "python",
      "nbconvert_exporter": "python",
      "pygments_lexer": "ipython3",
      "version": "3.9.7"
    },
    "vscode": {
      "interpreter": {
        "hash": "fca07e92bab9303d45da722a69a746796c5862dda9b3022f2f218e8fbf3eed75"
      }
    }
  },
  "nbformat": 4,
  "nbformat_minor": 4
}
